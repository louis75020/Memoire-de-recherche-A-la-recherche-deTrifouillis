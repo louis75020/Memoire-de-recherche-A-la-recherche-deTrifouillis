{
  "nbformat": 4,
  "nbformat_minor": 0,
  "metadata": {
    "colab": {
      "name": "Projet_Master1_Memoire_Neural_Network.ipynb",
      "provenance": [],
      "collapsed_sections": [
        "90_U5PhreId-",
        "nFBNzl8FPX9k"
      ],
      "machine_shape": "hm"
    },
    "kernelspec": {
      "name": "python3",
      "display_name": "Python 3"
    }
  },
  "cells": [
    {
      "cell_type": "markdown",
      "metadata": {
        "id": "JhhRFpjZMzvw",
        "colab_type": "text"
      },
      "source": [
        "# ***MEMOIRE MASTER 1 / TRIFFOULLIS-LES-OIES / NEURAL NETWORK***\n",
        "\n",
        "Ce notebook a été fait sur Google colab, un environnement python en ligne. Certaines commandes (notamment d'interaction avec l'ordinateur ou d'installation de packages) ne fonctionneront donc pas sur un environnement installé en propre sur un ordinateur.\n",
        "\n",
        "Il a les avantages de rester modulable, tout en permettant aux calculs d'être effectués dans \"le cloud\" : il n'est limité que par le flux de données et d'instructions à envoyer et recevoir."
      ]
    },
    {
      "cell_type": "markdown",
      "metadata": {
        "id": "zSIKS_IhSf2E",
        "colab_type": "text"
      },
      "source": [
        "## Importation et traitement du fichier `.csv`\n"
      ]
    },
    {
      "cell_type": "markdown",
      "metadata": {
        "id": "Q5ruHL7U7WZs",
        "colab_type": "text"
      },
      "source": [
        "### Importation des données\n",
        "\n",
        "On importe ici les données de `data2011_final.csv` dans une variable `COMMUNES`.\n"
      ]
    },
    {
      "cell_type": "code",
      "metadata": {
        "id": "P9Mspxvj4PGK",
        "colab_type": "code",
        "colab": {
          "resources": {
            "http://localhost:8080/nbextensions/google.colab/files.js": {
              "data": "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",
              "ok": true,
              "headers": [
                [
                  "content-type",
                  "application/javascript"
                ]
              ],
              "status": 200,
              "status_text": ""
            }
          },
          "base_uri": "https://localhost:8080/",
          "height": 71
        },
        "outputId": "701b02bc-125c-47ae-afb4-51c38026d0da"
      },
      "source": [
        "from google.colab import files\n",
        "uploaded = files.upload()"
      ],
      "execution_count": null,
      "outputs": [
        {
          "output_type": "display_data",
          "data": {
            "text/html": [
              "\n",
              "     <input type=\"file\" id=\"files-bdd53bb1-6f69-4a23-b05d-b0b25f62d039\" name=\"files[]\" multiple disabled />\n",
              "     <output id=\"result-bdd53bb1-6f69-4a23-b05d-b0b25f62d039\">\n",
              "      Upload widget is only available when the cell has been executed in the\n",
              "      current browser session. Please rerun this cell to enable.\n",
              "      </output>\n",
              "      <script src=\"/nbextensions/google.colab/files.js\"></script> "
            ],
            "text/plain": [
              "<IPython.core.display.HTML object>"
            ]
          },
          "metadata": {
            "tags": []
          }
        },
        {
          "output_type": "stream",
          "text": [
            "Saving data2011_final.csv to data2011_final.csv\n"
          ],
          "name": "stdout"
        }
      ]
    },
    {
      "cell_type": "code",
      "metadata": {
        "id": "XSgxnTdB4aZn",
        "colab_type": "code",
        "colab": {}
      },
      "source": [
        "import pandas as pd"
      ],
      "execution_count": null,
      "outputs": []
    },
    {
      "cell_type": "code",
      "metadata": {
        "id": "JUcIXU2c5lhf",
        "colab_type": "code",
        "colab": {
          "base_uri": "https://localhost:8080/",
          "height": 34
        },
        "outputId": "733e0417-0ad9-42dc-e1be-d6a90e354b74"
      },
      "source": [
        "Dataframe_communes = pd.read_csv(\"data2011_final.csv\", delimiter=\";\")\n",
        "len(Dataframe_communes)"
      ],
      "execution_count": null,
      "outputs": [
        {
          "output_type": "execute_result",
          "data": {
            "text/plain": [
              "36209"
            ]
          },
          "metadata": {
            "tags": []
          },
          "execution_count": 122
        }
      ]
    },
    {
      "cell_type": "code",
      "metadata": {
        "id": "Z6Jw8FTIl8vq",
        "colab_type": "code",
        "colab": {}
      },
      "source": [
        "ALL_COMMUNES = pd.DataFrame(Dataframe_communes).to_numpy()"
      ],
      "execution_count": null,
      "outputs": []
    },
    {
      "cell_type": "code",
      "metadata": {
        "id": "FyzPkvC_xAVi",
        "colab_type": "code",
        "colab": {}
      },
      "source": [
        "from sklearn.model_selection import train_test_split\n",
        "COMMUNES, TEST_COMMUNES = train_test_split(ALL_COMMUNES, test_size=0.099, random_state=10)"
      ],
      "execution_count": null,
      "outputs": []
    },
    {
      "cell_type": "code",
      "metadata": {
        "id": "1KRG7u1wxO5k",
        "colab_type": "code",
        "colab": {
          "base_uri": "https://localhost:8080/",
          "height": 136
        },
        "outputId": "4c106cd2-608d-4e1d-c8dd-c73bd6b1a067"
      },
      "source": [
        "COMMUNES"
      ],
      "execution_count": null,
      "outputs": [
        {
          "output_type": "execute_result",
          "data": {
            "text/plain": [
              "array([['Ligron', 95.0, '72270', ..., 72, 'PL', 2],\n",
              "       ['Schopperten', 220.0, '67260', ..., 67, 'AL', 3],\n",
              "       [\"Saint-Pierre-d'Autils\", 20.0, '27950', ..., 27, 'HN', 2],\n",
              "       ...,\n",
              "       ['V\\x9cgtlinshoffen', 334.0, '68420', ..., 68, 'AL', 3],\n",
              "       ['Montmort', 344.0, '71320', ..., 71, 'BO', 3],\n",
              "       ['Monflanquin', 147.0, '47150', ..., 47, 'AQ', 5]], dtype=object)"
            ]
          },
          "metadata": {
            "tags": []
          },
          "execution_count": 152
        }
      ]
    },
    {
      "cell_type": "code",
      "metadata": {
        "id": "6lomhhEExStb",
        "colab_type": "code",
        "colab": {
          "base_uri": "https://localhost:8080/",
          "height": 170
        },
        "outputId": "968fed0a-141a-4566-d38b-b5e977660bf2"
      },
      "source": [
        "TEST_COMMUNES"
      ],
      "execution_count": null,
      "outputs": [
        {
          "output_type": "execute_result",
          "data": {
            "text/plain": [
              "array([['Mostuéjouls', 480.0, '12720', ..., 12, 'MP', 5],\n",
              "       ['La_Villeneuve-lès-Charleville', 210.0, '51120', ..., 51, 'CA',\n",
              "        3],\n",
              "       ['Saint-Ouen-des-Alleux', 85.0, '35140', ..., 35, 'BR', 2],\n",
              "       ...,\n",
              "       ['Artigues', 640.0, '65100', ..., 65, 'MP', 5],\n",
              "       ['Vandeléville', 340.0, '54115', ..., 54, 'LO', 3],\n",
              "       ['Boiry-Saint-Martin', 85.0, '62175', ..., 62, 'NP', 3]],\n",
              "      dtype=object)"
            ]
          },
          "metadata": {
            "tags": []
          },
          "execution_count": 153
        }
      ]
    },
    {
      "cell_type": "markdown",
      "metadata": {
        "id": "k_vjPatl7uD7",
        "colab_type": "text"
      },
      "source": [
        "### Appel des bibliothèques nécéssaires\n",
        "\n",
        "On appelle les bibliothèques qui nous serviront pour la suite."
      ]
    },
    {
      "cell_type": "code",
      "metadata": {
        "id": "pCAbPJf04XxM",
        "colab_type": "code",
        "colab": {}
      },
      "source": [
        "import time"
      ],
      "execution_count": null,
      "outputs": []
    },
    {
      "cell_type": "code",
      "metadata": {
        "id": "VoOZWqqKzXHu",
        "colab_type": "code",
        "colab": {
          "base_uri": "https://localhost:8080/",
          "height": 34
        },
        "outputId": "c3a36d33-0c60-4325-af5d-4d1755c37356"
      },
      "source": [
        "%pylab inline"
      ],
      "execution_count": null,
      "outputs": [
        {
          "output_type": "stream",
          "text": [
            "Populating the interactive namespace from numpy and matplotlib\n"
          ],
          "name": "stdout"
        }
      ]
    },
    {
      "cell_type": "markdown",
      "metadata": {
        "id": "_LV2cwtB764C",
        "colab_type": "text"
      },
      "source": [
        "### Préparation des données\n",
        "\n",
        "On prépare les données tout comme dans RStudio en les séparant en une base de données test et une base de données d'apprentissage."
      ]
    },
    {
      "cell_type": "code",
      "metadata": {
        "id": "YABDNLvM759X",
        "colab_type": "code",
        "colab": {}
      },
      "source": [
        "#283 10\n",
        "random.seed(10)\n",
        "sample = randint(low = 0, high = len(ALL_COMMUNES), size = 3620)"
      ],
      "execution_count": null,
      "outputs": []
    },
    {
      "cell_type": "code",
      "metadata": {
        "id": "1Z0Su1yv-bcN",
        "colab_type": "code",
        "colab": {
          "base_uri": "https://localhost:8080/",
          "height": 351
        },
        "outputId": "b4ea8c45-1945-412c-a6aa-6cb9f00be50a"
      },
      "source": [
        "TEST_COMMUNES = ALL_COMMUNES[sample[0]]\n",
        "for i in sample[1:len(sample)]:\n",
        "    TEST_COMMUNES = vstack((TEST_COMMUNES,ALL_COMMUNES[i]))\n",
        "\n",
        "COMMUNES = ALL_COMMUNES  # /!\\ attention, cela n'est pas vérifé, mais on lie peut être les deux variables entre elles /!\\\n",
        "for i in range(len(sample)):\n",
        "    COMMUNES = np.delete(COMMUNES,sample[i]-i,0)"
      ],
      "execution_count": null,
      "outputs": [
        {
          "output_type": "error",
          "ename": "KeyboardInterrupt",
          "evalue": "ignored",
          "traceback": [
            "\u001b[0;31m---------------------------------------------------------------------------\u001b[0m",
            "\u001b[0;31mKeyboardInterrupt\u001b[0m                         Traceback (most recent call last)",
            "\u001b[0;32m<ipython-input-147-525690c62869>\u001b[0m in \u001b[0;36m<module>\u001b[0;34m()\u001b[0m\n\u001b[1;32m      5\u001b[0m \u001b[0mCOMMUNES\u001b[0m \u001b[0;34m=\u001b[0m \u001b[0mALL_COMMUNES\u001b[0m  \u001b[0;31m# /!\\ attention, cela n'est pas vérifé, mais on lie peut être les deux variables entre elles /!\\\u001b[0m\u001b[0;34m\u001b[0m\u001b[0;34m\u001b[0m\u001b[0m\n\u001b[1;32m      6\u001b[0m \u001b[0;32mfor\u001b[0m \u001b[0mi\u001b[0m \u001b[0;32min\u001b[0m \u001b[0mrange\u001b[0m\u001b[0;34m(\u001b[0m\u001b[0mlen\u001b[0m\u001b[0;34m(\u001b[0m\u001b[0msample\u001b[0m\u001b[0;34m)\u001b[0m\u001b[0;34m)\u001b[0m\u001b[0;34m:\u001b[0m\u001b[0;34m\u001b[0m\u001b[0;34m\u001b[0m\u001b[0m\n\u001b[0;32m----> 7\u001b[0;31m     \u001b[0mCOMMUNES\u001b[0m \u001b[0;34m=\u001b[0m \u001b[0mnp\u001b[0m\u001b[0;34m.\u001b[0m\u001b[0mdelete\u001b[0m\u001b[0;34m(\u001b[0m\u001b[0mCOMMUNES\u001b[0m\u001b[0;34m,\u001b[0m\u001b[0msample\u001b[0m\u001b[0;34m[\u001b[0m\u001b[0mi\u001b[0m\u001b[0;34m]\u001b[0m\u001b[0;34m-\u001b[0m\u001b[0mi\u001b[0m\u001b[0;34m,\u001b[0m\u001b[0;36m0\u001b[0m\u001b[0;34m)\u001b[0m\u001b[0;34m\u001b[0m\u001b[0;34m\u001b[0m\u001b[0m\n\u001b[0m",
            "\u001b[0;32m<__array_function__ internals>\u001b[0m in \u001b[0;36mdelete\u001b[0;34m(*args, **kwargs)\u001b[0m\n",
            "\u001b[0;32m/usr/local/lib/python3.6/dist-packages/numpy/lib/function_base.py\u001b[0m in \u001b[0;36mdelete\u001b[0;34m(arr, obj, axis)\u001b[0m\n\u001b[1;32m   4386\u001b[0m         \u001b[0mnew\u001b[0m \u001b[0;34m=\u001b[0m \u001b[0mempty\u001b[0m\u001b[0;34m(\u001b[0m\u001b[0mnewshape\u001b[0m\u001b[0;34m,\u001b[0m \u001b[0marr\u001b[0m\u001b[0;34m.\u001b[0m\u001b[0mdtype\u001b[0m\u001b[0;34m,\u001b[0m \u001b[0marrorder\u001b[0m\u001b[0;34m)\u001b[0m\u001b[0;34m\u001b[0m\u001b[0;34m\u001b[0m\u001b[0m\n\u001b[1;32m   4387\u001b[0m         \u001b[0mslobj\u001b[0m\u001b[0;34m[\u001b[0m\u001b[0maxis\u001b[0m\u001b[0;34m]\u001b[0m \u001b[0;34m=\u001b[0m \u001b[0mslice\u001b[0m\u001b[0;34m(\u001b[0m\u001b[0;32mNone\u001b[0m\u001b[0;34m,\u001b[0m \u001b[0mobj\u001b[0m\u001b[0;34m)\u001b[0m\u001b[0;34m\u001b[0m\u001b[0;34m\u001b[0m\u001b[0m\n\u001b[0;32m-> 4388\u001b[0;31m         \u001b[0mnew\u001b[0m\u001b[0;34m[\u001b[0m\u001b[0mtuple\u001b[0m\u001b[0;34m(\u001b[0m\u001b[0mslobj\u001b[0m\u001b[0;34m)\u001b[0m\u001b[0;34m]\u001b[0m \u001b[0;34m=\u001b[0m \u001b[0marr\u001b[0m\u001b[0;34m[\u001b[0m\u001b[0mtuple\u001b[0m\u001b[0;34m(\u001b[0m\u001b[0mslobj\u001b[0m\u001b[0;34m)\u001b[0m\u001b[0;34m]\u001b[0m\u001b[0;34m\u001b[0m\u001b[0;34m\u001b[0m\u001b[0m\n\u001b[0m\u001b[1;32m   4389\u001b[0m         \u001b[0mslobj\u001b[0m\u001b[0;34m[\u001b[0m\u001b[0maxis\u001b[0m\u001b[0;34m]\u001b[0m \u001b[0;34m=\u001b[0m \u001b[0mslice\u001b[0m\u001b[0;34m(\u001b[0m\u001b[0mobj\u001b[0m\u001b[0;34m,\u001b[0m \u001b[0;32mNone\u001b[0m\u001b[0;34m)\u001b[0m\u001b[0;34m\u001b[0m\u001b[0;34m\u001b[0m\u001b[0m\n\u001b[1;32m   4390\u001b[0m         \u001b[0mslobj2\u001b[0m \u001b[0;34m=\u001b[0m \u001b[0;34m[\u001b[0m\u001b[0mslice\u001b[0m\u001b[0;34m(\u001b[0m\u001b[0;32mNone\u001b[0m\u001b[0;34m)\u001b[0m\u001b[0;34m]\u001b[0m\u001b[0;34m*\u001b[0m\u001b[0mndim\u001b[0m\u001b[0;34m\u001b[0m\u001b[0;34m\u001b[0m\u001b[0m\n",
            "\u001b[0;31mKeyboardInterrupt\u001b[0m: "
          ]
        }
      ]
    },
    {
      "cell_type": "code",
      "metadata": {
        "id": "Tn5Yp1EDWrtq",
        "colab_type": "code",
        "colab": {
          "base_uri": "https://localhost:8080/",
          "height": 51
        },
        "outputId": "e9110ce1-2c55-4c27-a397-1ebd66c9a802"
      },
      "source": [
        "taille = len(COMMUNES)\n",
        "taille_test = len(TEST_COMMUNES)\n",
        "\n",
        "print(\"taille_test : \", taille_test)\n",
        "print(\"taille : \", taille)"
      ],
      "execution_count": null,
      "outputs": [
        {
          "output_type": "stream",
          "text": [
            "taille_test :  3585\n",
            "taille :  32624\n"
          ],
          "name": "stdout"
        }
      ]
    },
    {
      "cell_type": "code",
      "metadata": {
        "id": "OarrhsuwylbC",
        "colab_type": "code",
        "colab": {}
      },
      "source": [
        "DATACOMMUNES = pd.DataFrame(COMMUNES, columns= Dataframe_communes.columns)\n",
        "DATATEST_COMMUNES = pd.DataFrame(TEST_COMMUNES,columns= Dataframe_communes.columns)"
      ],
      "execution_count": null,
      "outputs": []
    },
    {
      "cell_type": "code",
      "metadata": {
        "id": "xzqJR3W3zT7Z",
        "colab_type": "code",
        "colab": {
          "base_uri": "https://localhost:8080/",
          "height": 419
        },
        "outputId": "a4226a7a-2340-4114-a0d6-9ba098372cfe"
      },
      "source": [
        "DATACOMMUNES"
      ],
      "execution_count": null,
      "outputs": [
        {
          "output_type": "execute_result",
          "data": {
            "text/html": [
              "<div>\n",
              "<style scoped>\n",
              "    .dataframe tbody tr th:only-of-type {\n",
              "        vertical-align: middle;\n",
              "    }\n",
              "\n",
              "    .dataframe tbody tr th {\n",
              "        vertical-align: top;\n",
              "    }\n",
              "\n",
              "    .dataframe thead th {\n",
              "        text-align: right;\n",
              "    }\n",
              "</style>\n",
              "<table border=\"1\" class=\"dataframe\">\n",
              "  <thead>\n",
              "    <tr style=\"text-align: right;\">\n",
              "      <th></th>\n",
              "      <th>nom</th>\n",
              "      <th>altitude</th>\n",
              "      <th>country.etc</th>\n",
              "      <th>pop99</th>\n",
              "      <th>longitude</th>\n",
              "      <th>latitude</th>\n",
              "      <th>surface</th>\n",
              "      <th>departement</th>\n",
              "      <th>region</th>\n",
              "      <th>indicatif</th>\n",
              "    </tr>\n",
              "  </thead>\n",
              "  <tbody>\n",
              "    <tr>\n",
              "      <th>0</th>\n",
              "      <td>Ligron</td>\n",
              "      <td>95</td>\n",
              "      <td>72270</td>\n",
              "      <td>358</td>\n",
              "      <td>0.000121196</td>\n",
              "      <td>0.833802</td>\n",
              "      <td>13.67</td>\n",
              "      <td>72</td>\n",
              "      <td>PL</td>\n",
              "      <td>2</td>\n",
              "    </tr>\n",
              "    <tr>\n",
              "      <th>1</th>\n",
              "      <td>Schopperten</td>\n",
              "      <td>220</td>\n",
              "      <td>67260</td>\n",
              "      <td>292</td>\n",
              "      <td>0.123051</td>\n",
              "      <td>0.854251</td>\n",
              "      <td>4.42</td>\n",
              "      <td>67</td>\n",
              "      <td>AL</td>\n",
              "      <td>3</td>\n",
              "    </tr>\n",
              "    <tr>\n",
              "      <th>2</th>\n",
              "      <td>Saint-Pierre-d'Autils</td>\n",
              "      <td>20</td>\n",
              "      <td>27950</td>\n",
              "      <td>1036</td>\n",
              "      <td>0.0250843</td>\n",
              "      <td>0.857296</td>\n",
              "      <td>7.18</td>\n",
              "      <td>27</td>\n",
              "      <td>HN</td>\n",
              "      <td>2</td>\n",
              "    </tr>\n",
              "    <tr>\n",
              "      <th>3</th>\n",
              "      <td>Frocourt</td>\n",
              "      <td>87</td>\n",
              "      <td>60000</td>\n",
              "      <td>514</td>\n",
              "      <td>0.0363853</td>\n",
              "      <td>0.861882</td>\n",
              "      <td>6.49</td>\n",
              "      <td>60</td>\n",
              "      <td>PI</td>\n",
              "      <td>3</td>\n",
              "    </tr>\n",
              "    <tr>\n",
              "      <th>4</th>\n",
              "      <td>Vieux-Champagne</td>\n",
              "      <td>130</td>\n",
              "      <td>77370</td>\n",
              "      <td>190</td>\n",
              "      <td>0.0547936</td>\n",
              "      <td>0.8479</td>\n",
              "      <td>8.89</td>\n",
              "      <td>77</td>\n",
              "      <td>IF</td>\n",
              "      <td>1</td>\n",
              "    </tr>\n",
              "    <tr>\n",
              "      <th>...</th>\n",
              "      <td>...</td>\n",
              "      <td>...</td>\n",
              "      <td>...</td>\n",
              "      <td>...</td>\n",
              "      <td>...</td>\n",
              "      <td>...</td>\n",
              "      <td>...</td>\n",
              "      <td>...</td>\n",
              "      <td>...</td>\n",
              "      <td>...</td>\n",
              "    </tr>\n",
              "    <tr>\n",
              "      <th>32619</th>\n",
              "      <td>Mouettes</td>\n",
              "      <td>130</td>\n",
              "      <td>27220</td>\n",
              "      <td>566</td>\n",
              "      <td>0.0237559</td>\n",
              "      <td>0.853393</td>\n",
              "      <td>8.39</td>\n",
              "      <td>27</td>\n",
              "      <td>HN</td>\n",
              "      <td>2</td>\n",
              "    </tr>\n",
              "    <tr>\n",
              "      <th>32620</th>\n",
              "      <td>Vaire-le-Petit</td>\n",
              "      <td>250</td>\n",
              "      <td>25220</td>\n",
              "      <td>197</td>\n",
              "      <td>0.107299</td>\n",
              "      <td>0.825323</td>\n",
              "      <td>1.27</td>\n",
              "      <td>25</td>\n",
              "      <td>FC</td>\n",
              "      <td>3</td>\n",
              "    </tr>\n",
              "    <tr>\n",
              "      <th>32621</th>\n",
              "      <td>Vgtlinshoffen</td>\n",
              "      <td>334</td>\n",
              "      <td>68420</td>\n",
              "      <td>478</td>\n",
              "      <td>0.127065</td>\n",
              "      <td>0.838107</td>\n",
              "      <td>4.05</td>\n",
              "      <td>68</td>\n",
              "      <td>AL</td>\n",
              "      <td>3</td>\n",
              "    </tr>\n",
              "    <tr>\n",
              "      <th>32622</th>\n",
              "      <td>Montmort</td>\n",
              "      <td>344</td>\n",
              "      <td>71320</td>\n",
              "      <td>183</td>\n",
              "      <td>0.0714228</td>\n",
              "      <td>0.815675</td>\n",
              "      <td>31.71</td>\n",
              "      <td>71</td>\n",
              "      <td>BO</td>\n",
              "      <td>3</td>\n",
              "    </tr>\n",
              "    <tr>\n",
              "      <th>32623</th>\n",
              "      <td>Monflanquin</td>\n",
              "      <td>147</td>\n",
              "      <td>47150</td>\n",
              "      <td>2258</td>\n",
              "      <td>0.0133663</td>\n",
              "      <td>0.777224</td>\n",
              "      <td>62.43</td>\n",
              "      <td>47</td>\n",
              "      <td>AQ</td>\n",
              "      <td>5</td>\n",
              "    </tr>\n",
              "  </tbody>\n",
              "</table>\n",
              "<p>32624 rows × 10 columns</p>\n",
              "</div>"
            ],
            "text/plain": [
              "                         nom altitude country.etc  ... departement region indicatif\n",
              "0                     Ligron       95       72270  ...          72     PL         2\n",
              "1                Schopperten      220       67260  ...          67     AL         3\n",
              "2      Saint-Pierre-d'Autils       20       27950  ...          27     HN         2\n",
              "3                   Frocourt       87       60000  ...          60     PI         3\n",
              "4            Vieux-Champagne      130       77370  ...          77     IF         1\n",
              "...                      ...      ...         ...  ...         ...    ...       ...\n",
              "32619               Mouettes      130       27220  ...          27     HN         2\n",
              "32620         Vaire-le-Petit      250       25220  ...          25     FC         3\n",
              "32621         Vgtlinshoffen      334       68420  ...          68     AL         3\n",
              "32622               Montmort      344       71320  ...          71     BO         3\n",
              "32623            Monflanquin      147       47150  ...          47     AQ         5\n",
              "\n",
              "[32624 rows x 10 columns]"
            ]
          },
          "metadata": {
            "tags": []
          },
          "execution_count": 159
        }
      ]
    },
    {
      "cell_type": "code",
      "metadata": {
        "id": "CtW2oQ_dyt_X",
        "colab_type": "code",
        "colab": {}
      },
      "source": [
        "DATACOMMUNES_2 = DATACOMMUNES.sort_values(by = 'departement', ascending = True)\n",
        "DATATEST_COMMUNES_2 = DATATEST_COMMUNES.sort_values(by = 'departement', ascending = True)"
      ],
      "execution_count": null,
      "outputs": []
    },
    {
      "cell_type": "code",
      "metadata": {
        "id": "Mp3um74bzjZW",
        "colab_type": "code",
        "colab": {}
      },
      "source": [
        "COMMUNES = DATACOMMUNES_2.to_numpy()\n",
        "TEST_COMMUNES = DATATEST_COMMUNES_2.to_numpy()"
      ],
      "execution_count": null,
      "outputs": []
    },
    {
      "cell_type": "code",
      "metadata": {
        "id": "nwaYjX-szywy",
        "colab_type": "code",
        "colab": {
          "base_uri": "https://localhost:8080/",
          "height": 136
        },
        "outputId": "20ed8bae-1267-465b-a237-b7e843eab251"
      },
      "source": [
        "COMMUNES"
      ],
      "execution_count": null,
      "outputs": [
        {
          "output_type": "execute_result",
          "data": {
            "text/plain": [
              "array([[\"Pont-d'Ain\", 250.0, 'France', ..., 1, 'RA', 4],\n",
              "       ['Ambérieux-en-Dombes', 293.0, 'France', ..., 1, 'RA', 4],\n",
              "       ['Bouligneux', 283.0, 'France', ..., 1, 'RA', 4],\n",
              "       ...,\n",
              "       ['Moussy', 90.0, '95640', ..., 95, 'IF', 1],\n",
              "       ['Puiseux-Pontoise', 100.0, '95650', ..., 95, 'IF', 1],\n",
              "       ['Pontoise', 62.0, '95300|95000', ..., 95, 'IF', 1]], dtype=object)"
            ]
          },
          "metadata": {
            "tags": []
          },
          "execution_count": 166
        }
      ]
    },
    {
      "cell_type": "code",
      "metadata": {
        "id": "ZI643vgD0BtL",
        "colab_type": "code",
        "colab": {
          "base_uri": "https://localhost:8080/",
          "height": 136
        },
        "outputId": "54236624-a438-41e1-c21b-8d9c275b5dc6"
      },
      "source": [
        "TEST_COMMUNES"
      ],
      "execution_count": null,
      "outputs": [
        {
          "output_type": "execute_result",
          "data": {
            "text/plain": [
              "array([['Cruzilles-lès-Mépillat', 215.0, 'France', ..., 1, 'RA', 4],\n",
              "       ['Saint-Laurent-sur-Saône', 173.0, 'France', ..., 1, 'RA', 4],\n",
              "       ['Biziat', 210.0, 'France', ..., 1, 'RA', 4],\n",
              "       ...,\n",
              "       ['Viarmes', 50.0, '95270', ..., 95, 'IF', 1],\n",
              "       ['Le_Bellay-en-Vexin', 114.0, '95750', ..., 95, 'IF', 1],\n",
              "       ['Arronville', 90.0, '95810', ..., 95, 'IF', 1]], dtype=object)"
            ]
          },
          "metadata": {
            "tags": []
          },
          "execution_count": 168
        }
      ]
    },
    {
      "cell_type": "code",
      "metadata": {
        "id": "mGUrwtaiigA5",
        "colab_type": "code",
        "colab": {
          "base_uri": "https://localhost:8080/",
          "height": 34
        },
        "outputId": "7edd4974-96de-4a9f-ee31-fee3c38f9087"
      },
      "source": [
        "doublons = zeros(taille_test)\n",
        "for i in range(taille_test):\n",
        "    doublons[i] = TEST_COMMUNES[i,0] in COMMUNES[:,0]\n",
        "\n",
        "sum(doublons)"
      ],
      "execution_count": null,
      "outputs": [
        {
          "output_type": "execute_result",
          "data": {
            "text/plain": [
              "400.0"
            ]
          },
          "metadata": {
            "tags": []
          },
          "execution_count": 169
        }
      ]
    },
    {
      "cell_type": "code",
      "metadata": {
        "id": "ccTl45FXjMNa",
        "colab_type": "code",
        "colab": {
          "base_uri": "https://localhost:8080/",
          "height": 34
        },
        "outputId": "b39d0840-2a82-423c-f1d0-c104f644927a"
      },
      "source": [
        "TEST_COMMUNES[1,0] in COMMUNES[:,0]"
      ],
      "execution_count": null,
      "outputs": [
        {
          "output_type": "execute_result",
          "data": {
            "text/plain": [
              "False"
            ]
          },
          "metadata": {
            "tags": []
          },
          "execution_count": 173
        }
      ]
    },
    {
      "cell_type": "markdown",
      "metadata": {
        "id": "xp0Wxgbdvnk8",
        "colab_type": "text"
      },
      "source": [
        "## Motivations\n",
        "\n",
        "On va ici s'intéresser à localiser les communes françaises à l'aide de réseaux de neurones. Un notebook écrit en L3 avec David Gontier rentre dans le détail de la théorie mathématique des MLP pour de la classification. Peut être faudra-t-il le résumer dans le rapport final ?"
      ]
    },
    {
      "cell_type": "markdown",
      "metadata": {
        "id": "K-YQ7qYfOM56",
        "colab_type": "text"
      },
      "source": [
        "## Méthodes envisagées\n",
        "\n",
        "L'idée est ici de faire \"lire\" l'ordinateur, ou plutôt de lui faire se représenter les noms des villes par leur proximité dans leur écriture. Plusieurs solutions sont alors envisagées :\n",
        "\n",
        "### *1. Proximité des noms deux à deux*\n",
        "\n",
        "Il s'agit ici d'utiliser d'une méthode qui va \"calculer\" la proximité des noms des villes deux à deux.\n",
        "\n",
        "En effet, on va utiliser des réseaux de neurones \"classiques\" prenant en entrée et en sortie des nombres. Il s'agit donc pour chaque commune de transformer la chaine de caractères en un vecteur, qui sera alors compréhensible par l'ordinateur.\n",
        "\n",
        "L'approche assez \"brute et violente\" consisterait à calculer les rapport de proximité toponymiques pour toutes les villes, entre elles, deux à deux.\n",
        "Mais avec la taille de la base de donnée, cela va revenir à un input dans $\\mathbb{R}^{35289}$, dimension assez conséquente.\n",
        "\n",
        "On va alors raisonner par département, prendre un nom de référence pour chaque département (celui ayant le plus de proximité avec tous les autres, le plus central, ou alors, choisi arbitrairement).\n",
        "On aura ainsi, pour chaque communes, la proximité de son nom à toutes les communes de référence choisies.\n",
        "\n",
        "Par exemple, dans le cadre des départements, on en compte $95$, cela nous donne donc un input dans $\\mathbb{R}^{95}$ et un output, soit dans $\\mathbb{R}^2$ (ses coordonnées géographiques) soit dans $\\mathbb{N}$ tronqué (son département, ou sa région).\n",
        "\n",
        "***On explore ici plus bas le cas des départements, avec la commune de référence choisie au hasard, avec sortie par classification pour les départements.***\n",
        "\n",
        "On comprends alors que si la proximité géographique est corrélée à la proximité toponymique, on espère avoir des résultats satisfaisants sur les sorties.\n",
        "\n",
        "### *2. Word Embedding*\n",
        "\n",
        "Il s'agit dans ce cas d'apprendre \"réellement à lire à l'ordinateur\". Un classique du *Word Embedding* est de passer par des modèles d'apprentissage de type `Word2Vec` qui prennent en entrée une liste de caractère et apprennent par rapport à une sortie donnée, ici aussi possiblement dans $\\mathbb{R}^2$ ou bien $\\mathbb{N}$ en fonction de l'output voulu.\n"
      ]
    },
    {
      "cell_type": "markdown",
      "metadata": {
        "id": "olwgsne6SbGm",
        "colab_type": "text"
      },
      "source": [
        "## 1.Proximité des noms deux à deux"
      ]
    },
    {
      "cell_type": "markdown",
      "metadata": {
        "id": "oLsBnEklFWp4",
        "colab_type": "text"
      },
      "source": [
        "#### `fuzzywuzzy` library et similarité entre les noms\n",
        "\n",
        "On utilise dans un premier temps la librarie `fuzzy wuzzy` qui permet de calculer la similarité entre deux mots ou groupe de mots."
      ]
    },
    {
      "cell_type": "code",
      "metadata": {
        "id": "9D9pNciO8hBL",
        "colab_type": "code",
        "colab": {
          "base_uri": "https://localhost:8080/",
          "height": 292
        },
        "outputId": "988668d7-bdc1-4bea-e446-a04c2a2e98ef"
      },
      "source": [
        "!pip install fuzzywuzzy\n",
        "!pip install python-Levenshtein"
      ],
      "execution_count": null,
      "outputs": [
        {
          "output_type": "stream",
          "text": [
            "Collecting fuzzywuzzy\n",
            "  Downloading https://files.pythonhosted.org/packages/43/ff/74f23998ad2f93b945c0309f825be92e04e0348e062026998b5eefef4c33/fuzzywuzzy-0.18.0-py2.py3-none-any.whl\n",
            "Installing collected packages: fuzzywuzzy\n",
            "Successfully installed fuzzywuzzy-0.18.0\n",
            "Collecting python-Levenshtein\n",
            "\u001b[?25l  Downloading https://files.pythonhosted.org/packages/42/a9/d1785c85ebf9b7dfacd08938dd028209c34a0ea3b1bcdb895208bd40a67d/python-Levenshtein-0.12.0.tar.gz (48kB)\n",
            "\u001b[K     |████████████████████████████████| 51kB 1.5MB/s \n",
            "\u001b[?25hRequirement already satisfied: setuptools in /usr/local/lib/python3.6/dist-packages (from python-Levenshtein) (45.1.0)\n",
            "Building wheels for collected packages: python-Levenshtein\n",
            "  Building wheel for python-Levenshtein (setup.py) ... \u001b[?25l\u001b[?25hdone\n",
            "  Created wheel for python-Levenshtein: filename=python_Levenshtein-0.12.0-cp36-cp36m-linux_x86_64.whl size=144678 sha256=8f6e6d1ff7f0c4ec124d4d0672df91ce22736545bd19941f5d432c1e04b2a4e4\n",
            "  Stored in directory: /root/.cache/pip/wheels/de/c2/93/660fd5f7559049268ad2dc6d81c4e39e9e36518766eaf7e342\n",
            "Successfully built python-Levenshtein\n",
            "Installing collected packages: python-Levenshtein\n",
            "Successfully installed python-Levenshtein-0.12.0\n"
          ],
          "name": "stdout"
        }
      ]
    },
    {
      "cell_type": "code",
      "metadata": {
        "id": "9a5v1EfHKjyi",
        "colab_type": "code",
        "colab": {}
      },
      "source": [
        "from fuzzywuzzy import fuzz"
      ],
      "execution_count": null,
      "outputs": []
    },
    {
      "cell_type": "markdown",
      "metadata": {
        "id": "9UyJ3ewpou8S",
        "colab_type": "text"
      },
      "source": [
        "On va alors regarder la théorie derrière cette librarie.\n",
        "\n",
        "`fuzzywuzzy`, malgré son nom qui peut paraître drôle, est bien intéréssante. Elle se base principalement sur la *distance de Leveshtein*, une métrique pour les chaines de caractères qui permet de mesurer les différences entre les mots.\n",
        "\n",
        "Elle est définie de la manière suivante :\n",
        "\n",
        "\n",
        "---\n",
        "\n",
        "\n",
        "La distance de Levenshtein entre deux chaines de caractères $a, b$ (de taille $|a|$ et $|b|$ respectives) est donnée par $\\operatorname{lev}_{a,b}(|a|,|b|)$, où :\n",
        "\n",
        "$$\\qquad\\operatorname{lev}_{a,b}(i,j) = \\begin{cases}\n",
        "  \\max(i,j) & \\text{ si } \\min(i,j)=0, \\\\\n",
        "  \\min \\begin{cases}\n",
        "          \\operatorname{lev}_{a,b}(i-1,j) + 1 \\\\\n",
        "          \\operatorname{lev}_{a,b}(i,j-1) + 1 \\\\\n",
        "          \\operatorname{lev}_{a,b}(i-1,j-1) + 1_{(a_i \\neq b_j)}\n",
        "       \\end{cases} & \\text{ autrement.}\n",
        "\\end{cases}$$\n",
        "\n",
        "où  $1_{(a_i \\neq b_j)}$ est la fonction indicatrice et $\\operatorname{lev}_{a,b}(i,j)$ est la distance entre le premier $i$ème caractère de $a$ et le premier $j$ème caractère de $b$. $i$ and $j$ are 1-based indices.\n",
        "\n",
        "\n",
        "---\n",
        "\n",
        "\n",
        "En \"français dans le texte\", elle est égale au nombre minimal de caractères qu'il faut supprimer, insérer ou remplacer pour passer d’une chaîne à l’autre.\n",
        "\n",
        "On va nous s'intéresser au ratio de similarité, donné lui par :\n",
        "\n",
        "$$\\frac{(|a| + |b|) - {lev}_{a,b}(i,j)}{|a| + |b|}$$\n",
        "\n",
        "Ce ratio (correspondant à la fonction `fuzz.ration`peut être retrouvé avec d'autre libraries, mais nous allons utiliser celle-ci car elle permet d'aller plus loin, notamment avec des fonctions telles que `fuzz.partial_ratio()` ou encore `fuzz.token_sort_ratio()` qui permettent d'améliorer les résultats dans certaines situations, ou en tout cas de constater une silimilitude d'une manière différence. Il sera alors intéréssant de comparer les résultats des différents réseaux de neurones avec ces métriques différentes."
      ]
    },
    {
      "cell_type": "markdown",
      "metadata": {
        "id": "cYm7RwpXO86W",
        "colab_type": "text"
      },
      "source": [
        "#### Création de la matrice de proximité des noms **/!\\ opération très couteuse et non nécéssaire pour la classification /!\\**"
      ]
    },
    {
      "cell_type": "markdown",
      "metadata": {
        "id": "k2vkZUW1EaFX",
        "colab_type": "text"
      },
      "source": [
        "On crée ici une matrice de $32589$ par $32589$ (prends environ 30 minutes) donnant pour chaque commune sa similarité dans son nom par rapport à toutes les autres."
      ]
    },
    {
      "cell_type": "code",
      "metadata": {
        "id": "ueXNdyPWWItn",
        "colab_type": "code",
        "colab": {}
      },
      "source": [
        "Data_levenshtein = array([[fuzz.ratio(x,y) for x in COMMUNES[:,0]] for y in COMMUNES[:,0]])"
      ],
      "execution_count": null,
      "outputs": []
    },
    {
      "cell_type": "code",
      "metadata": {
        "id": "sOELVblLyw2x",
        "colab_type": "code",
        "colab": {}
      },
      "source": [
        "Data_levenshtein"
      ],
      "execution_count": null,
      "outputs": []
    },
    {
      "cell_type": "markdown",
      "metadata": {
        "id": "_4Uu8bQKE3RL",
        "colab_type": "text"
      },
      "source": [
        "Pour des soucis de temps de calcul, on enregistre ensuite dans un dossier la matrice obtenue. (qu'on peut ensuite réutiliser par la suite juste en important le dossier)."
      ]
    },
    {
      "cell_type": "code",
      "metadata": {
        "id": "UgyyYkqsyx7l",
        "colab_type": "code",
        "colab": {}
      },
      "source": [
        "numpy.savetxt(\"levenshtein_ratios.csv\", Data_levenshtein, delimiter=\";\")"
      ],
      "execution_count": null,
      "outputs": []
    },
    {
      "cell_type": "code",
      "metadata": {
        "id": "s27ppkP8y74t",
        "colab_type": "code",
        "colab": {
          "base_uri": "https://localhost:8080/",
          "height": 442
        },
        "outputId": "81058e96-a928-41f2-d551-793493cdaf99"
      },
      "source": [
        "files.download(\"levenshtein_ratios.csv\")"
      ],
      "execution_count": null,
      "outputs": [
        {
          "output_type": "stream",
          "text": [
            "----------------------------------------\n",
            "Exception happened during processing of request from ('::ffff:127.0.0.1', 54046, 0, 0)\n",
            "Traceback (most recent call last):\n",
            "  File \"/usr/lib/python3.6/socketserver.py\", line 320, in _handle_request_noblock\n",
            "    self.process_request(request, client_address)\n",
            "  File \"/usr/lib/python3.6/socketserver.py\", line 351, in process_request\n",
            "    self.finish_request(request, client_address)\n",
            "  File \"/usr/lib/python3.6/socketserver.py\", line 364, in finish_request\n",
            "    self.RequestHandlerClass(request, client_address, self)\n",
            "  File \"/usr/lib/python3.6/socketserver.py\", line 724, in __init__\n",
            "    self.handle()\n",
            "  File \"/usr/lib/python3.6/http/server.py\", line 418, in handle\n",
            "    self.handle_one_request()\n",
            "  File \"/usr/lib/python3.6/http/server.py\", line 406, in handle_one_request\n",
            "    method()\n",
            "  File \"/usr/lib/python3.6/http/server.py\", line 639, in do_GET\n",
            "    self.copyfile(f, self.wfile)\n",
            "  File \"/usr/lib/python3.6/http/server.py\", line 800, in copyfile\n",
            "    shutil.copyfileobj(source, outputfile)\n",
            "  File \"/usr/lib/python3.6/shutil.py\", line 82, in copyfileobj\n",
            "    fdst.write(buf)\n",
            "  File \"/usr/lib/python3.6/socketserver.py\", line 803, in write\n",
            "    self._sock.sendall(b)\n",
            "ConnectionResetError: [Errno 104] Connection reset by peer\n",
            "----------------------------------------\n"
          ],
          "name": "stderr"
        }
      ]
    },
    {
      "cell_type": "markdown",
      "metadata": {
        "id": "MmlV1nXFLiie",
        "colab_type": "text"
      },
      "source": [
        "*Code pour importer la matrice avec les ratios levenshtein :*"
      ]
    },
    {
      "cell_type": "code",
      "metadata": {
        "id": "YxwEOL6gLbUE",
        "colab_type": "code",
        "colab": {
          "resources": {
            "http://localhost:8080/nbextensions/google.colab/files.js": {
              "data": "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",
              "ok": true,
              "headers": [
                [
                  "content-type",
                  "application/javascript"
                ]
              ],
              "status": 200,
              "status_text": ""
            }
          },
          "base_uri": "https://localhost:8080/",
          "height": 71
        },
        "outputId": "1b47ce8e-3278-49e9-95d5-5a5e98230c3b"
      },
      "source": [
        "uploaded = files.upload()"
      ],
      "execution_count": null,
      "outputs": [
        {
          "output_type": "display_data",
          "data": {
            "text/html": [
              "\n",
              "     <input type=\"file\" id=\"files-6edcb7ca-c753-42bf-8691-1c493f121ff9\" name=\"files[]\" multiple disabled />\n",
              "     <output id=\"result-6edcb7ca-c753-42bf-8691-1c493f121ff9\">\n",
              "      Upload widget is only available when the cell has been executed in the\n",
              "      current browser session. Please rerun this cell to enable.\n",
              "      </output>\n",
              "      <script src=\"/nbextensions/google.colab/files.js\"></script> "
            ],
            "text/plain": [
              "<IPython.core.display.HTML object>"
            ]
          },
          "metadata": {
            "tags": []
          }
        },
        {
          "output_type": "stream",
          "text": [
            "Saving levenshtein_triangulaire.csv to levenshtein_triangulaire.csv\n"
          ],
          "name": "stdout"
        }
      ]
    },
    {
      "cell_type": "code",
      "metadata": {
        "id": "9SP2vZiVLehm",
        "colab_type": "code",
        "colab": {
          "base_uri": "https://localhost:8080/",
          "height": 439
        },
        "outputId": "360bbaad-0148-4caa-9b41-8e92d677b46a"
      },
      "source": [
        "Frame_leveshtein = pd.read_csv(\"levenshtein_triangulaire.csv\", delimiter=\",\")\n",
        "Data_fuzz_communes = pd.DataFrame(Frame_leveshtein).to_numpy()\n",
        "Data_fuzz_communes\n",
        "Frame_leveshtein"
      ],
      "execution_count": null,
      "outputs": [
        {
          "output_type": "execute_result",
          "data": {
            "text/html": [
              "<div>\n",
              "<style scoped>\n",
              "    .dataframe tbody tr th:only-of-type {\n",
              "        vertical-align: middle;\n",
              "    }\n",
              "\n",
              "    .dataframe tbody tr th {\n",
              "        vertical-align: top;\n",
              "    }\n",
              "\n",
              "    .dataframe thead th {\n",
              "        text-align: right;\n",
              "    }\n",
              "</style>\n",
              "<table border=\"1\" class=\"dataframe\">\n",
              "  <thead>\n",
              "    <tr style=\"text-align: right;\">\n",
              "      <th></th>\n",
              "      <th>1.000000000000000000e+02</th>\n",
              "      <th>6.800000000000000000e+01</th>\n",
              "      <th>4.000000000000000000e+01</th>\n",
              "      <th>4.300000000000000000e+01</th>\n",
              "      <th>3.300000000000000000e+01</th>\n",
              "      <th>3.200000000000000000e+01</th>\n",
              "      <th>2.600000000000000000e+01</th>\n",
              "      <th>4.100000000000000000e+01</th>\n",
              "      <th>3.100000000000000000e+01</th>\n",
              "      <th>3.900000000000000000e+01</th>\n",
              "      <th>2.900000000000000000e+01</th>\n",
              "      <th>2.700000000000000000e+01</th>\n",
              "      <th>3.100000000000000000e+01.1</th>\n",
              "      <th>2.700000000000000000e+01.1</th>\n",
              "      <th>2.900000000000000000e+01.1</th>\n",
              "      <th>2.900000000000000000e+01.2</th>\n",
              "      <th>2.600000000000000000e+01.1</th>\n",
              "      <th>3.200000000000000000e+01.1</th>\n",
              "      <th>2.400000000000000000e+01</th>\n",
              "      <th>3.200000000000000000e+01.2</th>\n",
              "      <th>2.200000000000000000e+01</th>\n",
              "      <th>2.700000000000000000e+01.2</th>\n",
              "      <th>1.400000000000000000e+01</th>\n",
              "      <th>2.000000000000000000e+01</th>\n",
              "      <th>1.900000000000000000e+01</th>\n",
              "      <th>2.400000000000000000e+01.1</th>\n",
              "      <th>1.900000000000000000e+01.1</th>\n",
              "      <th>3.000000000000000000e+01</th>\n",
              "      <th>2.100000000000000000e+01</th>\n",
              "      <th>1.800000000000000000e+01</th>\n",
              "      <th>3.500000000000000000e+01</th>\n",
              "      <th>1.900000000000000000e+01.2</th>\n",
              "      <th>1.500000000000000000e+01</th>\n",
              "      <th>1.500000000000000000e+01.1</th>\n",
              "      <th>3.200000000000000000e+01.3</th>\n",
              "      <th>2.700000000000000000e+01.3</th>\n",
              "      <th>8.000000000000000000e+00</th>\n",
              "      <th>2.000000000000000000e+01.1</th>\n",
              "      <th>2.700000000000000000e+01.4</th>\n",
              "      <th>1.300000000000000000e+01</th>\n",
              "      <th>...</th>\n",
              "      <th>2.800000000000000000e+01.1070</th>\n",
              "      <th>1.900000000000000000e+01.2670</th>\n",
              "      <th>2.700000000000000000e+01.1545</th>\n",
              "      <th>3.000000000000000000e+01.1060</th>\n",
              "      <th>2.100000000000000000e+01.2125</th>\n",
              "      <th>2.200000000000000000e+01.897</th>\n",
              "      <th>2.300000000000000000e+01.961</th>\n",
              "      <th>2.200000000000000000e+01.898</th>\n",
              "      <th>3.300000000000000000e+01.789</th>\n",
              "      <th>3.300000000000000000e+01.790</th>\n",
              "      <th>2.800000000000000000e+01.1071</th>\n",
              "      <th>2.900000000000000000e+01.1769</th>\n",
              "      <th>2.200000000000000000e+01.899</th>\n",
              "      <th>2.900000000000000000e+01.1770</th>\n",
              "      <th>2.400000000000000000e+01.2379</th>\n",
              "      <th>3.000000000000000000e+01.1061</th>\n",
              "      <th>2.000000000000000000e+01.1831</th>\n",
              "      <th>2.600000000000000000e+01.1968</th>\n",
              "      <th>2.500000000000000000e+01.1362</th>\n",
              "      <th>2.900000000000000000e+01.1771</th>\n",
              "      <th>2.700000000000000000e+01.1546</th>\n",
              "      <th>1.800000000000000000e+01.1163</th>\n",
              "      <th>2.000000000000000000e+01.1832</th>\n",
              "      <th>2.300000000000000000e+01.962</th>\n",
              "      <th>1.900000000000000000e+01.2671</th>\n",
              "      <th>2.400000000000000000e+01.2380</th>\n",
              "      <th>1.700000000000000000e+01.336</th>\n",
              "      <th>2.400000000000000000e+01.2381</th>\n",
              "      <th>2.000000000000000000e+01.1833</th>\n",
              "      <th>2.100000000000000000e+01.2126</th>\n",
              "      <th>1.900000000000000000e+01.2672</th>\n",
              "      <th>2.000000000000000000e+01.1834</th>\n",
              "      <th>1.400000000000000000e+01.2033</th>\n",
              "      <th>1.400000000000000000e+01.2034</th>\n",
              "      <th>1.900000000000000000e+01.2673</th>\n",
              "      <th>2.900000000000000000e+01.1772</th>\n",
              "      <th>2.200000000000000000e+01.900</th>\n",
              "      <th>2.600000000000000000e+01.1969</th>\n",
              "      <th>3.200000000000000000e+01.953</th>\n",
              "      <th>2.400000000000000000e+01.2382</th>\n",
              "    </tr>\n",
              "  </thead>\n",
              "  <tbody>\n",
              "    <tr>\n",
              "      <th>0</th>\n",
              "      <td>0.0</td>\n",
              "      <td>100.0</td>\n",
              "      <td>47.0</td>\n",
              "      <td>40.0</td>\n",
              "      <td>21.0</td>\n",
              "      <td>41.0</td>\n",
              "      <td>28.0</td>\n",
              "      <td>38.0</td>\n",
              "      <td>27.0</td>\n",
              "      <td>41.0</td>\n",
              "      <td>23.0</td>\n",
              "      <td>36.0</td>\n",
              "      <td>33.0</td>\n",
              "      <td>36.0</td>\n",
              "      <td>23.0</td>\n",
              "      <td>23.0</td>\n",
              "      <td>28.0</td>\n",
              "      <td>48.0</td>\n",
              "      <td>36.0</td>\n",
              "      <td>28.0</td>\n",
              "      <td>29.0</td>\n",
              "      <td>29.0</td>\n",
              "      <td>8.0</td>\n",
              "      <td>14.0</td>\n",
              "      <td>21.0</td>\n",
              "      <td>32.0</td>\n",
              "      <td>20.0</td>\n",
              "      <td>40.0</td>\n",
              "      <td>22.0</td>\n",
              "      <td>19.0</td>\n",
              "      <td>32.0</td>\n",
              "      <td>14.0</td>\n",
              "      <td>16.0</td>\n",
              "      <td>8.0</td>\n",
              "      <td>14.0</td>\n",
              "      <td>21.0</td>\n",
              "      <td>17.0</td>\n",
              "      <td>21.0</td>\n",
              "      <td>7.0</td>\n",
              "      <td>14.0</td>\n",
              "      <td>...</td>\n",
              "      <td>34.0</td>\n",
              "      <td>21.0</td>\n",
              "      <td>21.0</td>\n",
              "      <td>32.0</td>\n",
              "      <td>22.0</td>\n",
              "      <td>23.0</td>\n",
              "      <td>24.0</td>\n",
              "      <td>28.0</td>\n",
              "      <td>29.0</td>\n",
              "      <td>34.0</td>\n",
              "      <td>29.0</td>\n",
              "      <td>36.0</td>\n",
              "      <td>33.0</td>\n",
              "      <td>30.0</td>\n",
              "      <td>26.0</td>\n",
              "      <td>19.0</td>\n",
              "      <td>7.0</td>\n",
              "      <td>21.0</td>\n",
              "      <td>20.0</td>\n",
              "      <td>25.0</td>\n",
              "      <td>23.0</td>\n",
              "      <td>19.0</td>\n",
              "      <td>29.0</td>\n",
              "      <td>12.0</td>\n",
              "      <td>13.0</td>\n",
              "      <td>26.0</td>\n",
              "      <td>18.0</td>\n",
              "      <td>25.0</td>\n",
              "      <td>21.0</td>\n",
              "      <td>22.0</td>\n",
              "      <td>14.0</td>\n",
              "      <td>29.0</td>\n",
              "      <td>23.0</td>\n",
              "      <td>15.0</td>\n",
              "      <td>21.0</td>\n",
              "      <td>36.0</td>\n",
              "      <td>29.0</td>\n",
              "      <td>33.0</td>\n",
              "      <td>33.0</td>\n",
              "      <td>30.0</td>\n",
              "    </tr>\n",
              "    <tr>\n",
              "      <th>1</th>\n",
              "      <td>0.0</td>\n",
              "      <td>0.0</td>\n",
              "      <td>100.0</td>\n",
              "      <td>72.0</td>\n",
              "      <td>42.0</td>\n",
              "      <td>48.0</td>\n",
              "      <td>40.0</td>\n",
              "      <td>30.0</td>\n",
              "      <td>31.0</td>\n",
              "      <td>32.0</td>\n",
              "      <td>27.0</td>\n",
              "      <td>25.0</td>\n",
              "      <td>38.0</td>\n",
              "      <td>42.0</td>\n",
              "      <td>27.0</td>\n",
              "      <td>27.0</td>\n",
              "      <td>31.0</td>\n",
              "      <td>32.0</td>\n",
              "      <td>40.0</td>\n",
              "      <td>24.0</td>\n",
              "      <td>27.0</td>\n",
              "      <td>32.0</td>\n",
              "      <td>9.0</td>\n",
              "      <td>17.0</td>\n",
              "      <td>24.0</td>\n",
              "      <td>30.0</td>\n",
              "      <td>31.0</td>\n",
              "      <td>34.0</td>\n",
              "      <td>26.0</td>\n",
              "      <td>22.0</td>\n",
              "      <td>29.0</td>\n",
              "      <td>24.0</td>\n",
              "      <td>29.0</td>\n",
              "      <td>19.0</td>\n",
              "      <td>24.0</td>\n",
              "      <td>17.0</td>\n",
              "      <td>30.0</td>\n",
              "      <td>25.0</td>\n",
              "      <td>8.0</td>\n",
              "      <td>33.0</td>\n",
              "      <td>...</td>\n",
              "      <td>27.0</td>\n",
              "      <td>16.0</td>\n",
              "      <td>25.0</td>\n",
              "      <td>47.0</td>\n",
              "      <td>36.0</td>\n",
              "      <td>26.0</td>\n",
              "      <td>21.0</td>\n",
              "      <td>26.0</td>\n",
              "      <td>27.0</td>\n",
              "      <td>32.0</td>\n",
              "      <td>27.0</td>\n",
              "      <td>29.0</td>\n",
              "      <td>31.0</td>\n",
              "      <td>39.0</td>\n",
              "      <td>22.0</td>\n",
              "      <td>22.0</td>\n",
              "      <td>8.0</td>\n",
              "      <td>16.0</td>\n",
              "      <td>23.0</td>\n",
              "      <td>29.0</td>\n",
              "      <td>31.0</td>\n",
              "      <td>21.0</td>\n",
              "      <td>25.0</td>\n",
              "      <td>34.0</td>\n",
              "      <td>23.0</td>\n",
              "      <td>15.0</td>\n",
              "      <td>13.0</td>\n",
              "      <td>21.0</td>\n",
              "      <td>8.0</td>\n",
              "      <td>17.0</td>\n",
              "      <td>24.0</td>\n",
              "      <td>17.0</td>\n",
              "      <td>27.0</td>\n",
              "      <td>28.0</td>\n",
              "      <td>24.0</td>\n",
              "      <td>40.0</td>\n",
              "      <td>20.0</td>\n",
              "      <td>44.0</td>\n",
              "      <td>38.0</td>\n",
              "      <td>28.0</td>\n",
              "    </tr>\n",
              "    <tr>\n",
              "      <th>2</th>\n",
              "      <td>0.0</td>\n",
              "      <td>0.0</td>\n",
              "      <td>0.0</td>\n",
              "      <td>100.0</td>\n",
              "      <td>38.0</td>\n",
              "      <td>37.0</td>\n",
              "      <td>44.0</td>\n",
              "      <td>34.0</td>\n",
              "      <td>21.0</td>\n",
              "      <td>30.0</td>\n",
              "      <td>25.0</td>\n",
              "      <td>31.0</td>\n",
              "      <td>36.0</td>\n",
              "      <td>31.0</td>\n",
              "      <td>33.0</td>\n",
              "      <td>33.0</td>\n",
              "      <td>41.0</td>\n",
              "      <td>37.0</td>\n",
              "      <td>38.0</td>\n",
              "      <td>22.0</td>\n",
              "      <td>25.0</td>\n",
              "      <td>30.0</td>\n",
              "      <td>8.0</td>\n",
              "      <td>23.0</td>\n",
              "      <td>22.0</td>\n",
              "      <td>21.0</td>\n",
              "      <td>36.0</td>\n",
              "      <td>33.0</td>\n",
              "      <td>16.0</td>\n",
              "      <td>21.0</td>\n",
              "      <td>28.0</td>\n",
              "      <td>37.0</td>\n",
              "      <td>17.0</td>\n",
              "      <td>17.0</td>\n",
              "      <td>22.0</td>\n",
              "      <td>15.0</td>\n",
              "      <td>9.0</td>\n",
              "      <td>31.0</td>\n",
              "      <td>8.0</td>\n",
              "      <td>38.0</td>\n",
              "      <td>...</td>\n",
              "      <td>26.0</td>\n",
              "      <td>22.0</td>\n",
              "      <td>31.0</td>\n",
              "      <td>50.0</td>\n",
              "      <td>46.0</td>\n",
              "      <td>18.0</td>\n",
              "      <td>32.0</td>\n",
              "      <td>29.0</td>\n",
              "      <td>21.0</td>\n",
              "      <td>36.0</td>\n",
              "      <td>31.0</td>\n",
              "      <td>32.0</td>\n",
              "      <td>29.0</td>\n",
              "      <td>37.0</td>\n",
              "      <td>21.0</td>\n",
              "      <td>21.0</td>\n",
              "      <td>23.0</td>\n",
              "      <td>15.0</td>\n",
              "      <td>29.0</td>\n",
              "      <td>27.0</td>\n",
              "      <td>29.0</td>\n",
              "      <td>27.0</td>\n",
              "      <td>15.0</td>\n",
              "      <td>32.0</td>\n",
              "      <td>21.0</td>\n",
              "      <td>7.0</td>\n",
              "      <td>12.0</td>\n",
              "      <td>20.0</td>\n",
              "      <td>8.0</td>\n",
              "      <td>24.0</td>\n",
              "      <td>22.0</td>\n",
              "      <td>31.0</td>\n",
              "      <td>17.0</td>\n",
              "      <td>32.0</td>\n",
              "      <td>22.0</td>\n",
              "      <td>43.0</td>\n",
              "      <td>25.0</td>\n",
              "      <td>35.0</td>\n",
              "      <td>35.0</td>\n",
              "      <td>21.0</td>\n",
              "    </tr>\n",
              "    <tr>\n",
              "      <th>3</th>\n",
              "      <td>0.0</td>\n",
              "      <td>0.0</td>\n",
              "      <td>0.0</td>\n",
              "      <td>0.0</td>\n",
              "      <td>100.0</td>\n",
              "      <td>67.0</td>\n",
              "      <td>40.0</td>\n",
              "      <td>26.0</td>\n",
              "      <td>38.0</td>\n",
              "      <td>53.0</td>\n",
              "      <td>33.0</td>\n",
              "      <td>29.0</td>\n",
              "      <td>38.0</td>\n",
              "      <td>43.0</td>\n",
              "      <td>17.0</td>\n",
              "      <td>33.0</td>\n",
              "      <td>27.0</td>\n",
              "      <td>27.0</td>\n",
              "      <td>16.0</td>\n",
              "      <td>27.0</td>\n",
              "      <td>10.0</td>\n",
              "      <td>10.0</td>\n",
              "      <td>33.0</td>\n",
              "      <td>14.0</td>\n",
              "      <td>27.0</td>\n",
              "      <td>0.0</td>\n",
              "      <td>25.0</td>\n",
              "      <td>13.0</td>\n",
              "      <td>15.0</td>\n",
              "      <td>24.0</td>\n",
              "      <td>25.0</td>\n",
              "      <td>40.0</td>\n",
              "      <td>36.0</td>\n",
              "      <td>55.0</td>\n",
              "      <td>13.0</td>\n",
              "      <td>14.0</td>\n",
              "      <td>0.0</td>\n",
              "      <td>14.0</td>\n",
              "      <td>14.0</td>\n",
              "      <td>0.0</td>\n",
              "      <td>...</td>\n",
              "      <td>7.0</td>\n",
              "      <td>27.0</td>\n",
              "      <td>14.0</td>\n",
              "      <td>8.0</td>\n",
              "      <td>17.0</td>\n",
              "      <td>19.0</td>\n",
              "      <td>21.0</td>\n",
              "      <td>7.0</td>\n",
              "      <td>7.0</td>\n",
              "      <td>7.0</td>\n",
              "      <td>10.0</td>\n",
              "      <td>16.0</td>\n",
              "      <td>7.0</td>\n",
              "      <td>23.0</td>\n",
              "      <td>12.0</td>\n",
              "      <td>12.0</td>\n",
              "      <td>14.0</td>\n",
              "      <td>13.0</td>\n",
              "      <td>12.0</td>\n",
              "      <td>11.0</td>\n",
              "      <td>21.0</td>\n",
              "      <td>11.0</td>\n",
              "      <td>14.0</td>\n",
              "      <td>32.0</td>\n",
              "      <td>12.0</td>\n",
              "      <td>12.0</td>\n",
              "      <td>20.0</td>\n",
              "      <td>22.0</td>\n",
              "      <td>14.0</td>\n",
              "      <td>15.0</td>\n",
              "      <td>13.0</td>\n",
              "      <td>14.0</td>\n",
              "      <td>17.0</td>\n",
              "      <td>15.0</td>\n",
              "      <td>40.0</td>\n",
              "      <td>16.0</td>\n",
              "      <td>20.0</td>\n",
              "      <td>9.0</td>\n",
              "      <td>9.0</td>\n",
              "      <td>8.0</td>\n",
              "    </tr>\n",
              "    <tr>\n",
              "      <th>4</th>\n",
              "      <td>0.0</td>\n",
              "      <td>0.0</td>\n",
              "      <td>0.0</td>\n",
              "      <td>0.0</td>\n",
              "      <td>0.0</td>\n",
              "      <td>100.0</td>\n",
              "      <td>50.0</td>\n",
              "      <td>33.0</td>\n",
              "      <td>24.0</td>\n",
              "      <td>50.0</td>\n",
              "      <td>46.0</td>\n",
              "      <td>53.0</td>\n",
              "      <td>35.0</td>\n",
              "      <td>53.0</td>\n",
              "      <td>31.0</td>\n",
              "      <td>31.0</td>\n",
              "      <td>35.0</td>\n",
              "      <td>38.0</td>\n",
              "      <td>23.0</td>\n",
              "      <td>38.0</td>\n",
              "      <td>10.0</td>\n",
              "      <td>0.0</td>\n",
              "      <td>15.0</td>\n",
              "      <td>13.0</td>\n",
              "      <td>25.0</td>\n",
              "      <td>22.0</td>\n",
              "      <td>12.0</td>\n",
              "      <td>12.0</td>\n",
              "      <td>14.0</td>\n",
              "      <td>11.0</td>\n",
              "      <td>24.0</td>\n",
              "      <td>25.0</td>\n",
              "      <td>33.0</td>\n",
              "      <td>33.0</td>\n",
              "      <td>25.0</td>\n",
              "      <td>13.0</td>\n",
              "      <td>18.0</td>\n",
              "      <td>13.0</td>\n",
              "      <td>13.0</td>\n",
              "      <td>13.0</td>\n",
              "      <td>...</td>\n",
              "      <td>7.0</td>\n",
              "      <td>25.0</td>\n",
              "      <td>13.0</td>\n",
              "      <td>16.0</td>\n",
              "      <td>17.0</td>\n",
              "      <td>18.0</td>\n",
              "      <td>20.0</td>\n",
              "      <td>13.0</td>\n",
              "      <td>14.0</td>\n",
              "      <td>14.0</td>\n",
              "      <td>19.0</td>\n",
              "      <td>15.0</td>\n",
              "      <td>13.0</td>\n",
              "      <td>22.0</td>\n",
              "      <td>11.0</td>\n",
              "      <td>11.0</td>\n",
              "      <td>13.0</td>\n",
              "      <td>12.0</td>\n",
              "      <td>12.0</td>\n",
              "      <td>21.0</td>\n",
              "      <td>27.0</td>\n",
              "      <td>11.0</td>\n",
              "      <td>40.0</td>\n",
              "      <td>30.0</td>\n",
              "      <td>0.0</td>\n",
              "      <td>22.0</td>\n",
              "      <td>19.0</td>\n",
              "      <td>21.0</td>\n",
              "      <td>27.0</td>\n",
              "      <td>29.0</td>\n",
              "      <td>0.0</td>\n",
              "      <td>13.0</td>\n",
              "      <td>31.0</td>\n",
              "      <td>7.0</td>\n",
              "      <td>38.0</td>\n",
              "      <td>15.0</td>\n",
              "      <td>19.0</td>\n",
              "      <td>9.0</td>\n",
              "      <td>9.0</td>\n",
              "      <td>15.0</td>\n",
              "    </tr>\n",
              "    <tr>\n",
              "      <th>...</th>\n",
              "      <td>...</td>\n",
              "      <td>...</td>\n",
              "      <td>...</td>\n",
              "      <td>...</td>\n",
              "      <td>...</td>\n",
              "      <td>...</td>\n",
              "      <td>...</td>\n",
              "      <td>...</td>\n",
              "      <td>...</td>\n",
              "      <td>...</td>\n",
              "      <td>...</td>\n",
              "      <td>...</td>\n",
              "      <td>...</td>\n",
              "      <td>...</td>\n",
              "      <td>...</td>\n",
              "      <td>...</td>\n",
              "      <td>...</td>\n",
              "      <td>...</td>\n",
              "      <td>...</td>\n",
              "      <td>...</td>\n",
              "      <td>...</td>\n",
              "      <td>...</td>\n",
              "      <td>...</td>\n",
              "      <td>...</td>\n",
              "      <td>...</td>\n",
              "      <td>...</td>\n",
              "      <td>...</td>\n",
              "      <td>...</td>\n",
              "      <td>...</td>\n",
              "      <td>...</td>\n",
              "      <td>...</td>\n",
              "      <td>...</td>\n",
              "      <td>...</td>\n",
              "      <td>...</td>\n",
              "      <td>...</td>\n",
              "      <td>...</td>\n",
              "      <td>...</td>\n",
              "      <td>...</td>\n",
              "      <td>...</td>\n",
              "      <td>...</td>\n",
              "      <td>...</td>\n",
              "      <td>...</td>\n",
              "      <td>...</td>\n",
              "      <td>...</td>\n",
              "      <td>...</td>\n",
              "      <td>...</td>\n",
              "      <td>...</td>\n",
              "      <td>...</td>\n",
              "      <td>...</td>\n",
              "      <td>...</td>\n",
              "      <td>...</td>\n",
              "      <td>...</td>\n",
              "      <td>...</td>\n",
              "      <td>...</td>\n",
              "      <td>...</td>\n",
              "      <td>...</td>\n",
              "      <td>...</td>\n",
              "      <td>...</td>\n",
              "      <td>...</td>\n",
              "      <td>...</td>\n",
              "      <td>...</td>\n",
              "      <td>...</td>\n",
              "      <td>...</td>\n",
              "      <td>...</td>\n",
              "      <td>...</td>\n",
              "      <td>...</td>\n",
              "      <td>...</td>\n",
              "      <td>...</td>\n",
              "      <td>...</td>\n",
              "      <td>...</td>\n",
              "      <td>...</td>\n",
              "      <td>...</td>\n",
              "      <td>...</td>\n",
              "      <td>...</td>\n",
              "      <td>...</td>\n",
              "      <td>...</td>\n",
              "      <td>...</td>\n",
              "      <td>...</td>\n",
              "      <td>...</td>\n",
              "      <td>...</td>\n",
              "      <td>...</td>\n",
              "    </tr>\n",
              "    <tr>\n",
              "      <th>124</th>\n",
              "      <td>0.0</td>\n",
              "      <td>0.0</td>\n",
              "      <td>0.0</td>\n",
              "      <td>0.0</td>\n",
              "      <td>0.0</td>\n",
              "      <td>0.0</td>\n",
              "      <td>0.0</td>\n",
              "      <td>0.0</td>\n",
              "      <td>0.0</td>\n",
              "      <td>0.0</td>\n",
              "      <td>0.0</td>\n",
              "      <td>0.0</td>\n",
              "      <td>0.0</td>\n",
              "      <td>0.0</td>\n",
              "      <td>0.0</td>\n",
              "      <td>0.0</td>\n",
              "      <td>0.0</td>\n",
              "      <td>0.0</td>\n",
              "      <td>0.0</td>\n",
              "      <td>0.0</td>\n",
              "      <td>0.0</td>\n",
              "      <td>0.0</td>\n",
              "      <td>0.0</td>\n",
              "      <td>0.0</td>\n",
              "      <td>0.0</td>\n",
              "      <td>0.0</td>\n",
              "      <td>0.0</td>\n",
              "      <td>0.0</td>\n",
              "      <td>0.0</td>\n",
              "      <td>0.0</td>\n",
              "      <td>0.0</td>\n",
              "      <td>0.0</td>\n",
              "      <td>0.0</td>\n",
              "      <td>0.0</td>\n",
              "      <td>0.0</td>\n",
              "      <td>0.0</td>\n",
              "      <td>0.0</td>\n",
              "      <td>0.0</td>\n",
              "      <td>0.0</td>\n",
              "      <td>0.0</td>\n",
              "      <td>...</td>\n",
              "      <td>8.0</td>\n",
              "      <td>29.0</td>\n",
              "      <td>15.0</td>\n",
              "      <td>26.0</td>\n",
              "      <td>18.0</td>\n",
              "      <td>20.0</td>\n",
              "      <td>22.0</td>\n",
              "      <td>21.0</td>\n",
              "      <td>15.0</td>\n",
              "      <td>15.0</td>\n",
              "      <td>21.0</td>\n",
              "      <td>25.0</td>\n",
              "      <td>21.0</td>\n",
              "      <td>16.0</td>\n",
              "      <td>25.0</td>\n",
              "      <td>25.0</td>\n",
              "      <td>31.0</td>\n",
              "      <td>29.0</td>\n",
              "      <td>13.0</td>\n",
              "      <td>35.0</td>\n",
              "      <td>21.0</td>\n",
              "      <td>12.0</td>\n",
              "      <td>31.0</td>\n",
              "      <td>33.0</td>\n",
              "      <td>0.0</td>\n",
              "      <td>12.0</td>\n",
              "      <td>21.0</td>\n",
              "      <td>35.0</td>\n",
              "      <td>31.0</td>\n",
              "      <td>17.0</td>\n",
              "      <td>14.0</td>\n",
              "      <td>15.0</td>\n",
              "      <td>18.0</td>\n",
              "      <td>16.0</td>\n",
              "      <td>29.0</td>\n",
              "      <td>17.0</td>\n",
              "      <td>21.0</td>\n",
              "      <td>10.0</td>\n",
              "      <td>10.0</td>\n",
              "      <td>16.0</td>\n",
              "    </tr>\n",
              "    <tr>\n",
              "      <th>125</th>\n",
              "      <td>0.0</td>\n",
              "      <td>0.0</td>\n",
              "      <td>0.0</td>\n",
              "      <td>0.0</td>\n",
              "      <td>0.0</td>\n",
              "      <td>0.0</td>\n",
              "      <td>0.0</td>\n",
              "      <td>0.0</td>\n",
              "      <td>0.0</td>\n",
              "      <td>0.0</td>\n",
              "      <td>0.0</td>\n",
              "      <td>0.0</td>\n",
              "      <td>0.0</td>\n",
              "      <td>0.0</td>\n",
              "      <td>0.0</td>\n",
              "      <td>0.0</td>\n",
              "      <td>0.0</td>\n",
              "      <td>0.0</td>\n",
              "      <td>0.0</td>\n",
              "      <td>0.0</td>\n",
              "      <td>0.0</td>\n",
              "      <td>0.0</td>\n",
              "      <td>0.0</td>\n",
              "      <td>0.0</td>\n",
              "      <td>0.0</td>\n",
              "      <td>0.0</td>\n",
              "      <td>0.0</td>\n",
              "      <td>0.0</td>\n",
              "      <td>0.0</td>\n",
              "      <td>0.0</td>\n",
              "      <td>0.0</td>\n",
              "      <td>0.0</td>\n",
              "      <td>0.0</td>\n",
              "      <td>0.0</td>\n",
              "      <td>0.0</td>\n",
              "      <td>0.0</td>\n",
              "      <td>0.0</td>\n",
              "      <td>0.0</td>\n",
              "      <td>0.0</td>\n",
              "      <td>0.0</td>\n",
              "      <td>...</td>\n",
              "      <td>30.0</td>\n",
              "      <td>27.0</td>\n",
              "      <td>43.0</td>\n",
              "      <td>25.0</td>\n",
              "      <td>26.0</td>\n",
              "      <td>19.0</td>\n",
              "      <td>53.0</td>\n",
              "      <td>21.0</td>\n",
              "      <td>22.0</td>\n",
              "      <td>22.0</td>\n",
              "      <td>20.0</td>\n",
              "      <td>16.0</td>\n",
              "      <td>21.0</td>\n",
              "      <td>15.0</td>\n",
              "      <td>12.0</td>\n",
              "      <td>0.0</td>\n",
              "      <td>29.0</td>\n",
              "      <td>13.0</td>\n",
              "      <td>38.0</td>\n",
              "      <td>33.0</td>\n",
              "      <td>28.0</td>\n",
              "      <td>44.0</td>\n",
              "      <td>29.0</td>\n",
              "      <td>32.0</td>\n",
              "      <td>38.0</td>\n",
              "      <td>12.0</td>\n",
              "      <td>30.0</td>\n",
              "      <td>22.0</td>\n",
              "      <td>29.0</td>\n",
              "      <td>31.0</td>\n",
              "      <td>13.0</td>\n",
              "      <td>43.0</td>\n",
              "      <td>0.0</td>\n",
              "      <td>23.0</td>\n",
              "      <td>13.0</td>\n",
              "      <td>24.0</td>\n",
              "      <td>20.0</td>\n",
              "      <td>18.0</td>\n",
              "      <td>18.0</td>\n",
              "      <td>15.0</td>\n",
              "    </tr>\n",
              "    <tr>\n",
              "      <th>126</th>\n",
              "      <td>0.0</td>\n",
              "      <td>0.0</td>\n",
              "      <td>0.0</td>\n",
              "      <td>0.0</td>\n",
              "      <td>0.0</td>\n",
              "      <td>0.0</td>\n",
              "      <td>0.0</td>\n",
              "      <td>0.0</td>\n",
              "      <td>0.0</td>\n",
              "      <td>0.0</td>\n",
              "      <td>0.0</td>\n",
              "      <td>0.0</td>\n",
              "      <td>0.0</td>\n",
              "      <td>0.0</td>\n",
              "      <td>0.0</td>\n",
              "      <td>0.0</td>\n",
              "      <td>0.0</td>\n",
              "      <td>0.0</td>\n",
              "      <td>0.0</td>\n",
              "      <td>0.0</td>\n",
              "      <td>0.0</td>\n",
              "      <td>0.0</td>\n",
              "      <td>0.0</td>\n",
              "      <td>0.0</td>\n",
              "      <td>0.0</td>\n",
              "      <td>0.0</td>\n",
              "      <td>0.0</td>\n",
              "      <td>0.0</td>\n",
              "      <td>0.0</td>\n",
              "      <td>0.0</td>\n",
              "      <td>0.0</td>\n",
              "      <td>0.0</td>\n",
              "      <td>0.0</td>\n",
              "      <td>0.0</td>\n",
              "      <td>0.0</td>\n",
              "      <td>0.0</td>\n",
              "      <td>0.0</td>\n",
              "      <td>0.0</td>\n",
              "      <td>0.0</td>\n",
              "      <td>0.0</td>\n",
              "      <td>...</td>\n",
              "      <td>8.0</td>\n",
              "      <td>17.0</td>\n",
              "      <td>18.0</td>\n",
              "      <td>10.0</td>\n",
              "      <td>10.0</td>\n",
              "      <td>11.0</td>\n",
              "      <td>25.0</td>\n",
              "      <td>15.0</td>\n",
              "      <td>8.0</td>\n",
              "      <td>8.0</td>\n",
              "      <td>12.0</td>\n",
              "      <td>9.0</td>\n",
              "      <td>8.0</td>\n",
              "      <td>9.0</td>\n",
              "      <td>14.0</td>\n",
              "      <td>0.0</td>\n",
              "      <td>18.0</td>\n",
              "      <td>0.0</td>\n",
              "      <td>15.0</td>\n",
              "      <td>27.0</td>\n",
              "      <td>15.0</td>\n",
              "      <td>13.0</td>\n",
              "      <td>18.0</td>\n",
              "      <td>25.0</td>\n",
              "      <td>0.0</td>\n",
              "      <td>0.0</td>\n",
              "      <td>12.0</td>\n",
              "      <td>13.0</td>\n",
              "      <td>18.0</td>\n",
              "      <td>20.0</td>\n",
              "      <td>0.0</td>\n",
              "      <td>36.0</td>\n",
              "      <td>0.0</td>\n",
              "      <td>9.0</td>\n",
              "      <td>33.0</td>\n",
              "      <td>9.0</td>\n",
              "      <td>24.0</td>\n",
              "      <td>11.0</td>\n",
              "      <td>11.0</td>\n",
              "      <td>9.0</td>\n",
              "    </tr>\n",
              "    <tr>\n",
              "      <th>127</th>\n",
              "      <td>0.0</td>\n",
              "      <td>0.0</td>\n",
              "      <td>0.0</td>\n",
              "      <td>0.0</td>\n",
              "      <td>0.0</td>\n",
              "      <td>0.0</td>\n",
              "      <td>0.0</td>\n",
              "      <td>0.0</td>\n",
              "      <td>0.0</td>\n",
              "      <td>0.0</td>\n",
              "      <td>0.0</td>\n",
              "      <td>0.0</td>\n",
              "      <td>0.0</td>\n",
              "      <td>0.0</td>\n",
              "      <td>0.0</td>\n",
              "      <td>0.0</td>\n",
              "      <td>0.0</td>\n",
              "      <td>0.0</td>\n",
              "      <td>0.0</td>\n",
              "      <td>0.0</td>\n",
              "      <td>0.0</td>\n",
              "      <td>0.0</td>\n",
              "      <td>0.0</td>\n",
              "      <td>0.0</td>\n",
              "      <td>0.0</td>\n",
              "      <td>0.0</td>\n",
              "      <td>0.0</td>\n",
              "      <td>0.0</td>\n",
              "      <td>0.0</td>\n",
              "      <td>0.0</td>\n",
              "      <td>0.0</td>\n",
              "      <td>0.0</td>\n",
              "      <td>0.0</td>\n",
              "      <td>0.0</td>\n",
              "      <td>0.0</td>\n",
              "      <td>0.0</td>\n",
              "      <td>0.0</td>\n",
              "      <td>0.0</td>\n",
              "      <td>0.0</td>\n",
              "      <td>0.0</td>\n",
              "      <td>...</td>\n",
              "      <td>14.0</td>\n",
              "      <td>12.0</td>\n",
              "      <td>27.0</td>\n",
              "      <td>24.0</td>\n",
              "      <td>25.0</td>\n",
              "      <td>9.0</td>\n",
              "      <td>30.0</td>\n",
              "      <td>20.0</td>\n",
              "      <td>29.0</td>\n",
              "      <td>14.0</td>\n",
              "      <td>19.0</td>\n",
              "      <td>31.0</td>\n",
              "      <td>20.0</td>\n",
              "      <td>15.0</td>\n",
              "      <td>22.0</td>\n",
              "      <td>22.0</td>\n",
              "      <td>13.0</td>\n",
              "      <td>38.0</td>\n",
              "      <td>35.0</td>\n",
              "      <td>32.0</td>\n",
              "      <td>13.0</td>\n",
              "      <td>42.0</td>\n",
              "      <td>13.0</td>\n",
              "      <td>30.0</td>\n",
              "      <td>47.0</td>\n",
              "      <td>44.0</td>\n",
              "      <td>29.0</td>\n",
              "      <td>32.0</td>\n",
              "      <td>27.0</td>\n",
              "      <td>14.0</td>\n",
              "      <td>38.0</td>\n",
              "      <td>27.0</td>\n",
              "      <td>15.0</td>\n",
              "      <td>30.0</td>\n",
              "      <td>38.0</td>\n",
              "      <td>31.0</td>\n",
              "      <td>38.0</td>\n",
              "      <td>26.0</td>\n",
              "      <td>26.0</td>\n",
              "      <td>30.0</td>\n",
              "    </tr>\n",
              "    <tr>\n",
              "      <th>128</th>\n",
              "      <td>0.0</td>\n",
              "      <td>0.0</td>\n",
              "      <td>0.0</td>\n",
              "      <td>0.0</td>\n",
              "      <td>0.0</td>\n",
              "      <td>0.0</td>\n",
              "      <td>0.0</td>\n",
              "      <td>0.0</td>\n",
              "      <td>0.0</td>\n",
              "      <td>0.0</td>\n",
              "      <td>0.0</td>\n",
              "      <td>0.0</td>\n",
              "      <td>0.0</td>\n",
              "      <td>0.0</td>\n",
              "      <td>0.0</td>\n",
              "      <td>0.0</td>\n",
              "      <td>0.0</td>\n",
              "      <td>0.0</td>\n",
              "      <td>0.0</td>\n",
              "      <td>0.0</td>\n",
              "      <td>0.0</td>\n",
              "      <td>0.0</td>\n",
              "      <td>0.0</td>\n",
              "      <td>0.0</td>\n",
              "      <td>0.0</td>\n",
              "      <td>0.0</td>\n",
              "      <td>0.0</td>\n",
              "      <td>0.0</td>\n",
              "      <td>0.0</td>\n",
              "      <td>0.0</td>\n",
              "      <td>0.0</td>\n",
              "      <td>0.0</td>\n",
              "      <td>0.0</td>\n",
              "      <td>0.0</td>\n",
              "      <td>0.0</td>\n",
              "      <td>0.0</td>\n",
              "      <td>0.0</td>\n",
              "      <td>0.0</td>\n",
              "      <td>0.0</td>\n",
              "      <td>0.0</td>\n",
              "      <td>...</td>\n",
              "      <td>NaN</td>\n",
              "      <td>NaN</td>\n",
              "      <td>NaN</td>\n",
              "      <td>NaN</td>\n",
              "      <td>NaN</td>\n",
              "      <td>NaN</td>\n",
              "      <td>NaN</td>\n",
              "      <td>NaN</td>\n",
              "      <td>NaN</td>\n",
              "      <td>NaN</td>\n",
              "      <td>NaN</td>\n",
              "      <td>NaN</td>\n",
              "      <td>NaN</td>\n",
              "      <td>NaN</td>\n",
              "      <td>NaN</td>\n",
              "      <td>NaN</td>\n",
              "      <td>NaN</td>\n",
              "      <td>NaN</td>\n",
              "      <td>NaN</td>\n",
              "      <td>NaN</td>\n",
              "      <td>NaN</td>\n",
              "      <td>NaN</td>\n",
              "      <td>NaN</td>\n",
              "      <td>NaN</td>\n",
              "      <td>NaN</td>\n",
              "      <td>NaN</td>\n",
              "      <td>NaN</td>\n",
              "      <td>NaN</td>\n",
              "      <td>NaN</td>\n",
              "      <td>NaN</td>\n",
              "      <td>NaN</td>\n",
              "      <td>NaN</td>\n",
              "      <td>NaN</td>\n",
              "      <td>NaN</td>\n",
              "      <td>NaN</td>\n",
              "      <td>NaN</td>\n",
              "      <td>NaN</td>\n",
              "      <td>NaN</td>\n",
              "      <td>NaN</td>\n",
              "      <td>NaN</td>\n",
              "    </tr>\n",
              "  </tbody>\n",
              "</table>\n",
              "<p>129 rows × 32589 columns</p>\n",
              "</div>"
            ],
            "text/plain": [
              "     1.000000000000000000e+02  ...  2.400000000000000000e+01.2382\n",
              "0                         0.0  ...                           30.0\n",
              "1                         0.0  ...                           28.0\n",
              "2                         0.0  ...                           21.0\n",
              "3                         0.0  ...                            8.0\n",
              "4                         0.0  ...                           15.0\n",
              "..                        ...  ...                            ...\n",
              "124                       0.0  ...                           16.0\n",
              "125                       0.0  ...                           15.0\n",
              "126                       0.0  ...                            9.0\n",
              "127                       0.0  ...                           30.0\n",
              "128                       0.0  ...                            NaN\n",
              "\n",
              "[129 rows x 32589 columns]"
            ]
          },
          "metadata": {
            "tags": []
          },
          "execution_count": 88
        }
      ]
    },
    {
      "cell_type": "code",
      "metadata": {
        "id": "oowakD3WuQBj",
        "colab_type": "code",
        "colab": {}
      },
      "source": [
        "Data_levenshtein = Data_fuzz_communes.transpose() + Data_fuzz_communes\n",
        "for i in range(taille):\n",
        "    Data_levenshtein[i,i] = Data_levenshtein[i,i]/2"
      ],
      "execution_count": null,
      "outputs": []
    },
    {
      "cell_type": "markdown",
      "metadata": {
        "id": "hF3ubE-rPGMh",
        "colab_type": "text"
      },
      "source": [
        "#### Compte des communes par département"
      ]
    },
    {
      "cell_type": "markdown",
      "metadata": {
        "id": "Nrss4-vQ4kY7",
        "colab_type": "text"
      },
      "source": [
        "On va ensuite compter le nombre de communes par département pour :\n",
        "\n",
        "*   pouvoir en choisir une aléatoirement comme \"référence\" comme expliqué plus haut.\n",
        "*   effectuer des statistiques descriptives\n",
        "\n"
      ]
    },
    {
      "cell_type": "code",
      "metadata": {
        "id": "IjrVtZxf2j7m",
        "colab_type": "code",
        "colab": {}
      },
      "source": [
        "compte_dpt = zeros(95)\n",
        "for i in range(95):\n",
        "    compte_dpt[i] = np.sum(COMMUNES[:,7] == i+1)\n",
        "\n",
        "compte_dpt_croissant_zeros = zeros(96)\n",
        "for i in range(95):\n",
        "    compte_dpt_croissant_zeros[i+1] = sum(compte_dpt[0:(i+1)])\n",
        "\n",
        "compte_dpt_croissant = compte_dpt_croissant_zeros[1:len(compte_dpt_croissant_zeros)]"
      ],
      "execution_count": null,
      "outputs": []
    },
    {
      "cell_type": "code",
      "metadata": {
        "id": "wJp6W3vA22K9",
        "colab_type": "code",
        "colab": {
          "base_uri": "https://localhost:8080/",
          "height": 527
        },
        "outputId": "9e278e31-86dd-427c-a890-71ec4b107a11"
      },
      "source": [
        "print(\"compte communes par département :\")\n",
        "print(compte_dpt)\n",
        "print(\"compte croissant des communes par département :\")\n",
        "print(compte_dpt_croissant)\n",
        "print(\"compte croissant des communes par département avec 0 devant :\")\n",
        "print(compte_dpt_croissant_zeros)"
      ],
      "execution_count": null,
      "outputs": [
        {
          "output_type": "stream",
          "text": [
            "compte communes par département :\n",
            "[384. 746. 284. 185. 163. 150. 313. 396. 297. 384. 392. 268. 109. 639.\n",
            " 242. 367. 436. 262. 258.   0. 622. 345. 242. 496. 542. 331. 612. 363.\n",
            " 257. 325. 524. 413. 494. 311. 316. 231. 240. 485. 489. 293. 266. 297.\n",
            " 237. 202. 303. 298. 282. 163. 321. 530. 569. 395. 227. 533. 443. 235.\n",
            " 673. 277. 596. 629. 458. 794. 425. 493. 427. 207. 473. 349. 253. 482.\n",
            " 511. 337. 277. 270.   1. 665. 466. 236. 278. 695. 291. 178. 138. 132.\n",
            " 255. 256. 176. 472. 412.  88. 166.  33.  37.  44. 167.]\n",
            "compte croissant des communes par département :\n",
            "[  384.  1130.  1414.  1599.  1762.  1912.  2225.  2621.  2918.  3302.\n",
            "  3694.  3962.  4071.  4710.  4952.  5319.  5755.  6017.  6275.  6275.\n",
            "  6897.  7242.  7484.  7980.  8522.  8853.  9465.  9828. 10085. 10410.\n",
            " 10934. 11347. 11841. 12152. 12468. 12699. 12939. 13424. 13913. 14206.\n",
            " 14472. 14769. 15006. 15208. 15511. 15809. 16091. 16254. 16575. 17105.\n",
            " 17674. 18069. 18296. 18829. 19272. 19507. 20180. 20457. 21053. 21682.\n",
            " 22140. 22934. 23359. 23852. 24279. 24486. 24959. 25308. 25561. 26043.\n",
            " 26554. 26891. 27168. 27438. 27439. 28104. 28570. 28806. 29084. 29779.\n",
            " 30070. 30248. 30386. 30518. 30773. 31029. 31205. 31677. 32089. 32177.\n",
            " 32343. 32376. 32413. 32457. 32624.]\n",
            "compte croissant des communes par département avec 0 devant :\n",
            "[    0.   384.  1130.  1414.  1599.  1762.  1912.  2225.  2621.  2918.\n",
            "  3302.  3694.  3962.  4071.  4710.  4952.  5319.  5755.  6017.  6275.\n",
            "  6275.  6897.  7242.  7484.  7980.  8522.  8853.  9465.  9828. 10085.\n",
            " 10410. 10934. 11347. 11841. 12152. 12468. 12699. 12939. 13424. 13913.\n",
            " 14206. 14472. 14769. 15006. 15208. 15511. 15809. 16091. 16254. 16575.\n",
            " 17105. 17674. 18069. 18296. 18829. 19272. 19507. 20180. 20457. 21053.\n",
            " 21682. 22140. 22934. 23359. 23852. 24279. 24486. 24959. 25308. 25561.\n",
            " 26043. 26554. 26891. 27168. 27438. 27439. 28104. 28570. 28806. 29084.\n",
            " 29779. 30070. 30248. 30386. 30518. 30773. 31029. 31205. 31677. 32089.\n",
            " 32177. 32343. 32376. 32413. 32457. 32624.]\n"
          ],
          "name": "stdout"
        }
      ]
    },
    {
      "cell_type": "markdown",
      "metadata": {
        "id": "lnZZROPz4Yb6",
        "colab_type": "text"
      },
      "source": [
        "Le 0 en 20ème position correspond à la Corse que l'on a retiré de notre étude, ainsi que le 1 pour le 75 qui correspond uniquement à la ville de Paris."
      ]
    },
    {
      "cell_type": "markdown",
      "metadata": {
        "id": "90_U5PhreId-",
        "colab_type": "text"
      },
      "source": [
        "#### Determination de la commune la plus représentative pour chaque département"
      ]
    },
    {
      "cell_type": "code",
      "metadata": {
        "id": "AsDEnJoOeIIX",
        "colab_type": "code",
        "colab": {
          "base_uri": "https://localhost:8080/",
          "height": 232
        },
        "outputId": "fcee8525-b427-498e-b51c-5324117ee33d"
      },
      "source": [
        "#crée une matrice 32589 par 3 avec pour chaque commune :\n",
        "# - la moyenne de sa métrique dans son département\n",
        "# - sa propre métrique de 100.\n",
        "# - le nombre de communes dans son département\n",
        "\n",
        "Communes_moyenne_ds_dpt = zeros((taille,2))\n",
        "for i in range(taille):\n",
        "    dpt_i = COMMUNES[i,7]\n",
        "    b_inf = int(compte_dpt_croissant_zeros[dpt_i-1])\n",
        "    b_sup = int(compte_dpt_croissant_zeros[dpt_i])\n",
        "    Communes_moyenne_ds_dpt[i,0] = mean(Data_levenshtein[i][b_inf:b_sup])\n",
        "    Communes_moyenne_ds_dpt[i,1] = compte_dpt[COMMUNES[i,7]]\n",
        "\n",
        "#crée un vecteur avec pour chaque commune la moyenne de sa métrique dans son département sans se compter.\n",
        "\n",
        "Communes_scoremoy_dpt = zeros(taille)\n",
        "for i in range(taille):\n",
        "    Xbarre = Communes_moyenne_ds_dpt[i,0]\n",
        "    n = Communes_moyenne_ds_dpt[i,1]\n",
        "    Communes_scoremoy_dpt[i] = (Xbarre - (float(100))/n)*(n/(n-1))\n",
        "\n",
        "#retourne un vecteur avec les indexations des 95 communes ayant la meilleure métrique dans son département.\n",
        "\n",
        "best_dpt = zeros(95)\n",
        "for i in range(95):\n",
        "    best_dpt[i] = argmax(Communes_scoremoy_dpt[int(compte_dpt_croissant_zeros[i]),int(compte_dpt_croissant_zeros[i+1])])"
      ],
      "execution_count": null,
      "outputs": [
        {
          "output_type": "error",
          "ename": "IndexError",
          "evalue": "ignored",
          "traceback": [
            "\u001b[0;31m---------------------------------------------------------------------------\u001b[0m",
            "\u001b[0;31mIndexError\u001b[0m                                Traceback (most recent call last)",
            "\u001b[0;32m<ipython-input-68-ecdab43cd624>\u001b[0m in \u001b[0;36m<module>\u001b[0;34m()\u001b[0m\n\u001b[1;32m      5\u001b[0m     \u001b[0mb_inf\u001b[0m \u001b[0;34m=\u001b[0m \u001b[0mint\u001b[0m\u001b[0;34m(\u001b[0m\u001b[0mcompte_dpt_croissant_zeros\u001b[0m\u001b[0;34m[\u001b[0m\u001b[0mdpt_i\u001b[0m\u001b[0;34m-\u001b[0m\u001b[0;36m1\u001b[0m\u001b[0;34m]\u001b[0m\u001b[0;34m)\u001b[0m\u001b[0;34m\u001b[0m\u001b[0;34m\u001b[0m\u001b[0m\n\u001b[1;32m      6\u001b[0m     \u001b[0mb_sup\u001b[0m \u001b[0;34m=\u001b[0m \u001b[0mint\u001b[0m\u001b[0;34m(\u001b[0m\u001b[0mcompte_dpt_croissant_zeros\u001b[0m\u001b[0;34m[\u001b[0m\u001b[0mdpt_i\u001b[0m\u001b[0;34m]\u001b[0m\u001b[0;34m)\u001b[0m\u001b[0;34m\u001b[0m\u001b[0;34m\u001b[0m\u001b[0m\n\u001b[0;32m----> 7\u001b[0;31m     \u001b[0mCommunes_moyenne_ds_dpt\u001b[0m\u001b[0;34m[\u001b[0m\u001b[0mi\u001b[0m\u001b[0;34m,\u001b[0m\u001b[0;36m0\u001b[0m\u001b[0;34m]\u001b[0m \u001b[0;34m=\u001b[0m \u001b[0mmean\u001b[0m\u001b[0;34m(\u001b[0m\u001b[0mData_levenshtein\u001b[0m\u001b[0;34m[\u001b[0m\u001b[0mi\u001b[0m\u001b[0;34m]\u001b[0m\u001b[0;34m[\u001b[0m\u001b[0mb_inf\u001b[0m\u001b[0;34m:\u001b[0m\u001b[0mb_sup\u001b[0m\u001b[0;34m]\u001b[0m\u001b[0;34m)\u001b[0m\u001b[0;34m\u001b[0m\u001b[0;34m\u001b[0m\u001b[0m\n\u001b[0m\u001b[1;32m      8\u001b[0m     \u001b[0mCommunes_moyenne_ds_dpt\u001b[0m\u001b[0;34m[\u001b[0m\u001b[0mi\u001b[0m\u001b[0;34m,\u001b[0m\u001b[0;36m1\u001b[0m\u001b[0;34m]\u001b[0m \u001b[0;34m=\u001b[0m \u001b[0mcompte_dpt\u001b[0m\u001b[0;34m[\u001b[0m\u001b[0mCOMMUNES\u001b[0m\u001b[0;34m[\u001b[0m\u001b[0mi\u001b[0m\u001b[0;34m,\u001b[0m\u001b[0;36m7\u001b[0m\u001b[0;34m]\u001b[0m\u001b[0;34m]\u001b[0m\u001b[0;34m\u001b[0m\u001b[0;34m\u001b[0m\u001b[0m\n\u001b[1;32m      9\u001b[0m \u001b[0;34m\u001b[0m\u001b[0m\n",
            "\u001b[0;31mIndexError\u001b[0m: index 138 is out of bounds for axis 0 with size 138"
          ]
        }
      ]
    },
    {
      "cell_type": "code",
      "metadata": {
        "id": "6Z-9w9lW88rk",
        "colab_type": "code",
        "colab": {}
      },
      "source": [
        "numpy.savetxt(\"best_dpt.csv\", best_dpt, delimiter=\";\")\n",
        "files.download(\"best_dpt.csv\")"
      ],
      "execution_count": null,
      "outputs": []
    },
    {
      "cell_type": "code",
      "metadata": {
        "id": "OzVUkR4D0tin",
        "colab_type": "code",
        "colab": {
          "base_uri": "https://localhost:8080/",
          "height": 34
        },
        "outputId": "f4235f78-315d-4d67-af66-3119fe236820"
      },
      "source": [
        ""
      ],
      "execution_count": null,
      "outputs": [
        {
          "output_type": "execute_result",
          "data": {
            "text/plain": [
              "32589"
            ]
          },
          "metadata": {
            "tags": []
          },
          "execution_count": 73
        }
      ]
    },
    {
      "cell_type": "code",
      "metadata": {
        "id": "sk0rEdrVoGTr",
        "colab_type": "code",
        "colab": {}
      },
      "source": [
        "best_dpt"
      ],
      "execution_count": null,
      "outputs": []
    },
    {
      "cell_type": "code",
      "metadata": {
        "id": "n86oO39DoO9g",
        "colab_type": "code",
        "colab": {}
      },
      "source": [
        "numpy.savetxt(\"best_dpt.csv\", best_dpt, delimiter=\";\")\n",
        "files.download(\"best_dpt.csv\")"
      ],
      "execution_count": null,
      "outputs": []
    },
    {
      "cell_type": "markdown",
      "metadata": {
        "id": "nFBNzl8FPX9k",
        "colab_type": "text"
      },
      "source": [
        "#### Statistiques descriptives sur la base d'apprentissage **/!\\ ne pas run car utilise la très grosse matrice /!\\**"
      ]
    },
    {
      "cell_type": "markdown",
      "metadata": {
        "id": "G3LfSvjgHH8k",
        "colab_type": "text"
      },
      "source": [
        "Pour les statistiques descriptives :"
      ]
    },
    {
      "cell_type": "code",
      "metadata": {
        "id": "I-0FgaNlHMX_",
        "colab_type": "code",
        "colab": {
          "base_uri": "https://localhost:8080/",
          "height": 85
        },
        "outputId": "22ec7a9b-e78b-48fd-b662-12c655987675"
      },
      "source": [
        "sim_dpt = zeros((taille,95))\n",
        "for i in range(taille):\n",
        "    for j in range(95):\n",
        "        sim_dpt[i,j] = mean(Data_levenshtein[i][int(compte_dpt_croissant_zeros[j]):int(compte_dpt_croissant_zeros[j+1])])"
      ],
      "execution_count": null,
      "outputs": [
        {
          "output_type": "stream",
          "text": [
            "/usr/local/lib/python3.6/dist-packages/numpy/core/fromnumeric.py:3257: RuntimeWarning: Mean of empty slice.\n",
            "  out=out, **kwargs)\n",
            "/usr/local/lib/python3.6/dist-packages/numpy/core/_methods.py:161: RuntimeWarning: invalid value encountered in double_scalars\n",
            "  ret = ret.dtype.type(ret / rcount)\n"
          ],
          "name": "stderr"
        }
      ]
    },
    {
      "cell_type": "markdown",
      "metadata": {
        "id": "jZ2DI-dOPlfF",
        "colab_type": "text"
      },
      "source": [
        "#### Tirage aléatoire d'une commune de référence par département"
      ]
    },
    {
      "cell_type": "markdown",
      "metadata": {
        "id": "fARVn_O3HDEV",
        "colab_type": "text"
      },
      "source": [
        "On va alors tirer aléatoirement une commune dans chaque département pour s'en servir comme référence : "
      ]
    },
    {
      "cell_type": "code",
      "metadata": {
        "id": "KQfz_fDp3wQR",
        "colab_type": "code",
        "colab": {}
      },
      "source": [
        "#283 10\n",
        "\n",
        "random.seed(10)\n",
        "\n",
        "alea_dpt = zeros(95)\n",
        "for i in range(95):\n",
        "    if i != 19 : #probleme de la corse\n",
        "        alea_dpt[i] = randint(low = 0, high = compte_dpt[i]) #de 0 a max-1 pour correspondre à l'indexation sous python\n",
        "\n",
        "numeros_communes_ref_alea = zeros(95)\n",
        "numeros_communes_ref_alea[0] = alea_dpt[0]\n",
        "for i in range(1,95):\n",
        "    numeros_communes_ref_alea[i] = alea_dpt[i] + compte_dpt_croissant[i-1]"
      ],
      "execution_count": null,
      "outputs": []
    },
    {
      "cell_type": "code",
      "metadata": {
        "id": "NNUZOAUHFMAB",
        "colab_type": "code",
        "colab": {
          "base_uri": "https://localhost:8080/",
          "height": 34
        },
        "outputId": "85250522-0d69-45c0-90bc-e12e13b645a1"
      },
      "source": [
        "#vérification que la ville selectionnée pour le 75 est bien Paris\n",
        "COMMUNES[int(numeros_communes_ref_alea[74]),0]"
      ],
      "execution_count": null,
      "outputs": [
        {
          "output_type": "execute_result",
          "data": {
            "text/plain": [
              "'Paris'"
            ]
          },
          "metadata": {
            "tags": []
          },
          "execution_count": 178
        }
      ]
    },
    {
      "cell_type": "markdown",
      "metadata": {
        "id": "wHPrWI0rPtXt",
        "colab_type": "text"
      },
      "source": [
        "#### MLP avec input vis à vis de la référence et classification par département : `MLP_indpt_outdpt`"
      ]
    },
    {
      "cell_type": "markdown",
      "metadata": {
        "id": "w_0_Hlnf_Fe3",
        "colab_type": "text"
      },
      "source": [
        "On construit ensuite la matrice qui servira d'entrée, et celle qui servira de sortie (on choisit ici un output de type classification sur les départements dans un premier tems) :"
      ]
    },
    {
      "cell_type": "code",
      "metadata": {
        "id": "y-GPaloT-kwy",
        "colab_type": "code",
        "colab": {}
      },
      "source": [
        "INPUT_alea = np.zeros((taille,95))\n",
        "for i in range(taille):\n",
        "    for j in range(95):\n",
        "        INPUT_alea[i][j] = fuzz.ratio(COMMUNES[i,0],COMMUNES[int(numeros_communes_ref_alea[j]),0])\n",
        "\n",
        "OUTPUT = COMMUNES[:,7].astype('int')"
      ],
      "execution_count": null,
      "outputs": []
    },
    {
      "cell_type": "code",
      "metadata": {
        "id": "DFp0t0Nl-rtN",
        "colab_type": "code",
        "colab": {
          "base_uri": "https://localhost:8080/",
          "height": 170
        },
        "outputId": "dd0185eb-c992-411e-9d0b-2774fc96254c"
      },
      "source": [
        "print('INPUT_alea :')\n",
        "print(INPUT_alea)\n",
        "print('size INPUT_alea : ',len(INPUT_alea), ' x ', len(INPUT_alea[0]))"
      ],
      "execution_count": null,
      "outputs": [
        {
          "output_type": "stream",
          "text": [
            "INPUT_alea :\n",
            "[[40. 21. 25. ... 38. 25. 15.]\n",
            " [21. 42. 16. ... 40. 24. 28.]\n",
            " [50. 34. 38. ... 29. 25. 30.]\n",
            " ...\n",
            " [38. 16. 33. ... 12. 33. 26.]\n",
            " [38. 46. 27. ... 37. 36. 48.]\n",
            " [56. 30. 29. ... 42. 43. 24.]]\n",
            "size INPUT_alea :  32624  x  95\n"
          ],
          "name": "stdout"
        }
      ]
    },
    {
      "cell_type": "code",
      "metadata": {
        "id": "S8Wyc8CYOq7J",
        "colab_type": "code",
        "colab": {
          "base_uri": "https://localhost:8080/",
          "height": 68
        },
        "outputId": "905902b5-a944-4e19-bd90-00b6ef5187b1"
      },
      "source": [
        "print('OUTPUT :')\n",
        "print(OUTPUT)\n",
        "print('size OUTPUT : ',len(OUTPUT))"
      ],
      "execution_count": null,
      "outputs": [
        {
          "output_type": "stream",
          "text": [
            "OUTPUT :\n",
            "[ 1  1  1 ... 95 95 95]\n",
            "size OUTPUT :  32624\n"
          ],
          "name": "stdout"
        }
      ]
    },
    {
      "cell_type": "markdown",
      "metadata": {
        "id": "OnsCHuJGTnkQ",
        "colab_type": "text"
      },
      "source": [
        "On adapte ensuite la base de test pour l'entrer dans le réseau :"
      ]
    },
    {
      "cell_type": "code",
      "metadata": {
        "id": "57THpaXySy-N",
        "colab_type": "code",
        "colab": {}
      },
      "source": [
        "INPUT_TEST = np.zeros((taille_test,95))\n",
        "for i in range(taille_test):\n",
        "    for j in range(95):\n",
        "        INPUT_TEST[i][j] = fuzz.ratio(TEST_COMMUNES[i,0],COMMUNES[int(numeros_communes_ref_alea[j]),0])"
      ],
      "execution_count": null,
      "outputs": []
    },
    {
      "cell_type": "markdown",
      "metadata": {
        "id": "37RGJkNvOLts",
        "colab_type": "text"
      },
      "source": [
        "On implémente alors le réseau de neurones, ici un MLP : "
      ]
    },
    {
      "cell_type": "code",
      "metadata": {
        "id": "BPau9dkb6faM",
        "colab_type": "code",
        "colab": {}
      },
      "source": [
        "from sklearn.neural_network import MLPClassifier"
      ],
      "execution_count": null,
      "outputs": []
    },
    {
      "cell_type": "code",
      "metadata": {
        "id": "eRl1e2nWRjrS",
        "colab_type": "code",
        "colab": {}
      },
      "source": [
        "MLP_indpt_outdpt = MLPClassifier(solver='adam', alpha=1e-5, hidden_layer_sizes=(180, 180*4), random_state=10, max_iter = 400)"
      ],
      "execution_count": null,
      "outputs": []
    },
    {
      "cell_type": "code",
      "metadata": {
        "id": "Sk-icKfMSIgy",
        "colab_type": "code",
        "colab": {
          "base_uri": "https://localhost:8080/",
          "height": 153
        },
        "outputId": "4bd93e4f-5e2d-4a05-edb0-4684f1cff1b1"
      },
      "source": [
        "MLP_indpt_outdpt.fit(INPUT_alea,OUTPUT)"
      ],
      "execution_count": null,
      "outputs": [
        {
          "output_type": "execute_result",
          "data": {
            "text/plain": [
              "MLPClassifier(activation='relu', alpha=1e-05, batch_size='auto', beta_1=0.9,\n",
              "              beta_2=0.999, early_stopping=False, epsilon=1e-08,\n",
              "              hidden_layer_sizes=(180, 720), learning_rate='constant',\n",
              "              learning_rate_init=0.001, max_fun=15000, max_iter=400,\n",
              "              momentum=0.9, n_iter_no_change=10, nesterovs_momentum=True,\n",
              "              power_t=0.5, random_state=10, shuffle=True, solver='adam',\n",
              "              tol=0.0001, validation_fraction=0.1, verbose=False,\n",
              "              warm_start=False)"
            ]
          },
          "metadata": {
            "tags": []
          },
          "execution_count": 183
        }
      ]
    },
    {
      "cell_type": "code",
      "metadata": {
        "id": "gYPH8vOYUTeZ",
        "colab_type": "code",
        "colab": {}
      },
      "source": [
        "predict = MLP_indpt_outdpt.predict(INPUT_TEST)"
      ],
      "execution_count": null,
      "outputs": []
    },
    {
      "cell_type": "code",
      "metadata": {
        "id": "C11TCHOXVEvu",
        "colab_type": "code",
        "colab": {
          "base_uri": "https://localhost:8080/",
          "height": 34
        },
        "outputId": "faf74bd3-f755-4100-d167-3dbd16e6355e"
      },
      "source": [
        "predict"
      ],
      "execution_count": null,
      "outputs": [
        {
          "output_type": "execute_result",
          "data": {
            "text/plain": [
              "array([74, 38, 10, ..., 91,  7, 68])"
            ]
          },
          "metadata": {
            "tags": []
          },
          "execution_count": 185
        }
      ]
    },
    {
      "cell_type": "code",
      "metadata": {
        "id": "3nrKD4Mn_MZs",
        "colab_type": "code",
        "colab": {
          "base_uri": "https://localhost:8080/",
          "height": 361
        },
        "outputId": "107a8d4d-f382-4dfd-a13a-3175bb95f89c"
      },
      "source": [
        "MLP_indpt_outdpt.predict(\"Triffouillis-Les-Oies\")"
      ],
      "execution_count": null,
      "outputs": [
        {
          "output_type": "error",
          "ename": "ValueError",
          "evalue": "ignored",
          "traceback": [
            "\u001b[0;31m---------------------------------------------------------------------------\u001b[0m",
            "\u001b[0;31mValueError\u001b[0m                                Traceback (most recent call last)",
            "\u001b[0;32m<ipython-input-29-4ba740c36700>\u001b[0m in \u001b[0;36m<module>\u001b[0;34m()\u001b[0m\n\u001b[0;32m----> 1\u001b[0;31m \u001b[0mMLP_indpt_outdpt\u001b[0m\u001b[0;34m.\u001b[0m\u001b[0mpredict\u001b[0m\u001b[0;34m(\u001b[0m\u001b[0;34m\"Triffouillis-Les-Oies\"\u001b[0m\u001b[0;34m)\u001b[0m\u001b[0;34m\u001b[0m\u001b[0;34m\u001b[0m\u001b[0m\n\u001b[0m",
            "\u001b[0;32m/usr/local/lib/python3.6/dist-packages/sklearn/neural_network/_multilayer_perceptron.py\u001b[0m in \u001b[0;36mpredict\u001b[0;34m(self, X)\u001b[0m\n\u001b[1;32m    969\u001b[0m         \"\"\"\n\u001b[1;32m    970\u001b[0m         \u001b[0mcheck_is_fitted\u001b[0m\u001b[0;34m(\u001b[0m\u001b[0mself\u001b[0m\u001b[0;34m)\u001b[0m\u001b[0;34m\u001b[0m\u001b[0;34m\u001b[0m\u001b[0m\n\u001b[0;32m--> 971\u001b[0;31m         \u001b[0my_pred\u001b[0m \u001b[0;34m=\u001b[0m \u001b[0mself\u001b[0m\u001b[0;34m.\u001b[0m\u001b[0m_predict\u001b[0m\u001b[0;34m(\u001b[0m\u001b[0mX\u001b[0m\u001b[0;34m)\u001b[0m\u001b[0;34m\u001b[0m\u001b[0;34m\u001b[0m\u001b[0m\n\u001b[0m\u001b[1;32m    972\u001b[0m \u001b[0;34m\u001b[0m\u001b[0m\n\u001b[1;32m    973\u001b[0m         \u001b[0;32mif\u001b[0m \u001b[0mself\u001b[0m\u001b[0;34m.\u001b[0m\u001b[0mn_outputs_\u001b[0m \u001b[0;34m==\u001b[0m \u001b[0;36m1\u001b[0m\u001b[0;34m:\u001b[0m\u001b[0;34m\u001b[0m\u001b[0;34m\u001b[0m\u001b[0m\n",
            "\u001b[0;32m/usr/local/lib/python3.6/dist-packages/sklearn/neural_network/_multilayer_perceptron.py\u001b[0m in \u001b[0;36m_predict\u001b[0;34m(self, X)\u001b[0m\n\u001b[1;32m    665\u001b[0m             \u001b[0mThe\u001b[0m \u001b[0mdecision\u001b[0m \u001b[0mfunction\u001b[0m \u001b[0mof\u001b[0m \u001b[0mthe\u001b[0m \u001b[0msamples\u001b[0m \u001b[0;32mfor\u001b[0m \u001b[0meach\u001b[0m \u001b[0;32mclass\u001b[0m \u001b[0;32min\u001b[0m \u001b[0mthe\u001b[0m \u001b[0mmodel\u001b[0m\u001b[0;34m.\u001b[0m\u001b[0;34m\u001b[0m\u001b[0;34m\u001b[0m\u001b[0m\n\u001b[1;32m    666\u001b[0m         \"\"\"\n\u001b[0;32m--> 667\u001b[0;31m         \u001b[0mX\u001b[0m \u001b[0;34m=\u001b[0m \u001b[0mcheck_array\u001b[0m\u001b[0;34m(\u001b[0m\u001b[0mX\u001b[0m\u001b[0;34m,\u001b[0m \u001b[0maccept_sparse\u001b[0m\u001b[0;34m=\u001b[0m\u001b[0;34m[\u001b[0m\u001b[0;34m'csr'\u001b[0m\u001b[0;34m,\u001b[0m \u001b[0;34m'csc'\u001b[0m\u001b[0;34m,\u001b[0m \u001b[0;34m'coo'\u001b[0m\u001b[0;34m]\u001b[0m\u001b[0;34m)\u001b[0m\u001b[0;34m\u001b[0m\u001b[0;34m\u001b[0m\u001b[0m\n\u001b[0m\u001b[1;32m    668\u001b[0m \u001b[0;34m\u001b[0m\u001b[0m\n\u001b[1;32m    669\u001b[0m         \u001b[0;31m# Make sure self.hidden_layer_sizes is a list\u001b[0m\u001b[0;34m\u001b[0m\u001b[0;34m\u001b[0m\u001b[0;34m\u001b[0m\u001b[0m\n",
            "\u001b[0;32m/usr/local/lib/python3.6/dist-packages/sklearn/utils/validation.py\u001b[0m in \u001b[0;36mcheck_array\u001b[0;34m(array, accept_sparse, accept_large_sparse, dtype, order, copy, force_all_finite, ensure_2d, allow_nd, ensure_min_samples, ensure_min_features, warn_on_dtype, estimator)\u001b[0m\n\u001b[1;32m    547\u001b[0m                     \u001b[0;34m\"Reshape your data either using array.reshape(-1, 1) if \"\u001b[0m\u001b[0;34m\u001b[0m\u001b[0;34m\u001b[0m\u001b[0m\n\u001b[1;32m    548\u001b[0m                     \u001b[0;34m\"your data has a single feature or array.reshape(1, -1) \"\u001b[0m\u001b[0;34m\u001b[0m\u001b[0;34m\u001b[0m\u001b[0m\n\u001b[0;32m--> 549\u001b[0;31m                     \"if it contains a single sample.\".format(array))\n\u001b[0m\u001b[1;32m    550\u001b[0m             \u001b[0;31m# If input is 1D raise error\u001b[0m\u001b[0;34m\u001b[0m\u001b[0;34m\u001b[0m\u001b[0;34m\u001b[0m\u001b[0m\n\u001b[1;32m    551\u001b[0m             \u001b[0;32mif\u001b[0m \u001b[0marray\u001b[0m\u001b[0;34m.\u001b[0m\u001b[0mndim\u001b[0m \u001b[0;34m==\u001b[0m \u001b[0;36m1\u001b[0m\u001b[0;34m:\u001b[0m\u001b[0;34m\u001b[0m\u001b[0;34m\u001b[0m\u001b[0m\n",
            "\u001b[0;31mValueError\u001b[0m: Expected 2D array, got scalar array instead:\narray=Triffouillis-Les-Oies.\nReshape your data either using array.reshape(-1, 1) if your data has a single feature or array.reshape(1, -1) if it contains a single sample."
          ]
        }
      ]
    },
    {
      "cell_type": "code",
      "metadata": {
        "id": "6H03YkfiUe2Q",
        "colab_type": "code",
        "colab": {
          "base_uri": "https://localhost:8080/",
          "height": 34
        },
        "outputId": "1c30f55f-00c2-4be0-afd4-f6b46f456e4d"
      },
      "source": [
        "REAL_OUTPUT_TEST = TEST_COMMUNES[:,7].astype('int')\n",
        "REAL_OUTPUT_TEST"
      ],
      "execution_count": null,
      "outputs": [
        {
          "output_type": "execute_result",
          "data": {
            "text/plain": [
              "array([47, 71, 68, ..., 77, 57, 89])"
            ]
          },
          "metadata": {
            "tags": []
          },
          "execution_count": 32
        }
      ]
    },
    {
      "cell_type": "code",
      "metadata": {
        "id": "B0FXgpfYVBUO",
        "colab_type": "code",
        "colab": {}
      },
      "source": [
        "#cette fonction retourne le nombre de Vrai et de Faux résultats entre la prédiction et la base de test.\n",
        "#elle retourne une liste avec le nobre de vrai, le nombre de faux, et le pourcentage de vrais.\n",
        "\n",
        "def VF_predict(prediction,real_output):\n",
        "    l = len(prediction)\n",
        "    V = 0\n",
        "    F = 0\n",
        "    for i in range(l):\n",
        "        if prediction[i] == real_output[i]:\n",
        "            V += 1\n",
        "        else :\n",
        "            F += 1\n",
        "    percent = V/l\n",
        "    return(V,F,percent)"
      ],
      "execution_count": null,
      "outputs": []
    },
    {
      "cell_type": "code",
      "metadata": {
        "id": "Q7vSpxeCYpF5",
        "colab_type": "code",
        "colab": {
          "base_uri": "https://localhost:8080/",
          "height": 34
        },
        "outputId": "00f8a32f-5e31-4380-af7b-afe42d047f99"
      },
      "source": [
        "VF_predict(predict,REAL_OUTPUT_TEST)"
      ],
      "execution_count": null,
      "outputs": [
        {
          "output_type": "execute_result",
          "data": {
            "text/plain": [
              "(46, 3574, 0.01270718232044199)"
            ]
          },
          "metadata": {
            "tags": []
          },
          "execution_count": 186
        }
      ]
    },
    {
      "cell_type": "code",
      "metadata": {
        "id": "YQhuB0ySYuOu",
        "colab_type": "code",
        "colab": {}
      },
      "source": [
        "#cette fonction teste la performance des différents \"ratio\" possibles entre le nombre de couches et la taille des couches du MLP.\n",
        "\n",
        "def compar_MLP_ratio(IN, OUT, IN_test,real_out, start_layer_size = 50, nb_iter = 5, max_iter = 300):\n",
        "    prediction_percent = zeros(n)\n",
        "    for k in range(n):\n",
        "        MLP = MLPClassifier(solver='adam', alpha=1e-5, hidden_layer_sizes=(start_layer_size, start_layer_size*(k+1)), random_state=10, max_iter = max_iter)\n",
        "        MLP.fit(IN,OUT)\n",
        "        prediction_percent[k] = VF_predict(MLP.predict(IN_test),real_out)[2]\n",
        "        print(VF_predict(MLP.predict(IN_test),real_out))\n",
        "    return prediction_percent"
      ],
      "execution_count": null,
      "outputs": []
    },
    {
      "cell_type": "code",
      "metadata": {
        "id": "CFQJSw1qfMkw",
        "colab_type": "code",
        "colab": {
          "base_uri": "https://localhost:8080/",
          "height": 164
        },
        "outputId": "f18938a2-4b9a-4f1b-d63e-1aadc92511a6"
      },
      "source": [
        "compar_ratio = compar_MLP_ratio(INPUT_alea, OUTPUT, INPUT_TEST, REAL_OUTPUT_TEST)"
      ],
      "execution_count": null,
      "outputs": [
        {
          "output_type": "error",
          "ename": "NameError",
          "evalue": "ignored",
          "traceback": [
            "\u001b[0;31m---------------------------------------------------------------------------\u001b[0m",
            "\u001b[0;31mNameError\u001b[0m                                 Traceback (most recent call last)",
            "\u001b[0;32m<ipython-input-2-64b1f3b80a97>\u001b[0m in \u001b[0;36m<module>\u001b[0;34m()\u001b[0m\n\u001b[0;32m----> 1\u001b[0;31m \u001b[0mcompar_ratio\u001b[0m \u001b[0;34m=\u001b[0m \u001b[0mcompar_MLP_ratio\u001b[0m\u001b[0;34m(\u001b[0m\u001b[0mINPUT\u001b[0m\u001b[0;34m,\u001b[0m \u001b[0mOUTPUT\u001b[0m\u001b[0;34m,\u001b[0m \u001b[0mINPUT_TEST\u001b[0m\u001b[0;34m,\u001b[0m \u001b[0mREAL_OUTPUT_TEST\u001b[0m\u001b[0;34m)\u001b[0m\u001b[0;34m\u001b[0m\u001b[0;34m\u001b[0m\u001b[0m\n\u001b[0m",
            "\u001b[0;31mNameError\u001b[0m: name 'INPUT' is not defined"
          ]
        }
      ]
    },
    {
      "cell_type": "code",
      "metadata": {
        "id": "viPx-Jx8gfdP",
        "colab_type": "code",
        "colab": {
          "base_uri": "https://localhost:8080/",
          "height": 51
        },
        "outputId": "ba075ad9-817b-4174-9bb8-7ff29c018773"
      },
      "source": [
        "compar_ratio"
      ],
      "execution_count": null,
      "outputs": [
        {
          "output_type": "execute_result",
          "data": {
            "text/plain": [
              "array([0.10828729, 0.13314917, 0.16657459, 0.07486188, 0.04696133,\n",
              "       0.14254144, 0.0301105 , 0.10082873, 0.03895028, 0.05662983])"
            ]
          },
          "metadata": {
            "tags": []
          },
          "execution_count": 329
        }
      ]
    },
    {
      "cell_type": "code",
      "metadata": {
        "id": "zJ0xgh7iflsp",
        "colab_type": "code",
        "colab": {}
      },
      "source": [
        "#cette fonction teste la performance des différentes tailles de réseaux de neurones (pour un ratio -comme définit ci dessus- fixé).\n",
        "\n",
        "def compar_MLP_size(IN,OUT, IN_test,real_out, n = 4, start_layer_size = 30, nb_iter = 10, max_iter = 300):\n",
        "    prediction_percent = zeros(nb_iter)\n",
        "    for k in range(nb_iter):\n",
        "        MLP = MLPClassifier(solver='adam', alpha=1e-5, hidden_layer_sizes=(start_layer_size*(k+1), start_layer_size*(k+1)*n), random_state=10, max_iter = max_iter)\n",
        "        MLP.fit(IN,OUT)\n",
        "        prediction_percent[k] = VF_predict(MLP.predict(IN_test),real_out)[2]\n",
        "        print(\"pour MLP size (\", start_layer_size*(k+1), \",\", start_layer_size*(k+1)*n, \") : \", VF_predict(MLP.predict(IN_test),real_out))\n",
        "    return prediction_percent"
      ],
      "execution_count": null,
      "outputs": []
    },
    {
      "cell_type": "code",
      "metadata": {
        "id": "-gVS7xSVgNvn",
        "colab_type": "code",
        "colab": {}
      },
      "source": [
        "compar_size = compar_MLP_size(INPUT_alea, OUTPUT, INPUT_TEST, REAL_OUTPUT_TEST)"
      ],
      "execution_count": null,
      "outputs": []
    },
    {
      "cell_type": "code",
      "metadata": {
        "id": "u7bij0r__uUH",
        "colab_type": "code",
        "colab": {}
      },
      "source": [
        "plt.plot(array([30,60,90,120,150,180,210,240,270,300]),compar_size)\n",
        "plt.ylabel(\"pourcentage d'exactitude\")\n",
        "plt.xlabel(\"nombre de couches (4*x) et taille de couches (x) utilisées\")\n",
        "plt.axis([0, 310, 0, 1])\n",
        "plt.show()"
      ],
      "execution_count": null,
      "outputs": []
    },
    {
      "cell_type": "markdown",
      "metadata": {
        "id": "aFJGf94yzwa0",
        "colab_type": "text"
      },
      "source": [
        "Algorythme du MLP avec les paramètres optimaux comme ils ont pu être testés ci-dessus :"
      ]
    },
    {
      "cell_type": "code",
      "metadata": {
        "id": "KQZAcOW1QFAJ",
        "colab_type": "code",
        "colab": {
          "base_uri": "https://localhost:8080/",
          "height": 130
        },
        "outputId": "28b58c85-7c3b-4328-e72c-287ce391c06b"
      },
      "source": [
        "def optimized_MLP(IN,OUT, IN_test,real_out, layer_size = 180, nb_layers = 180*4, max_iter = 400):\n",
        "    MLP = MLPClassifier(solver='adam', alpha=1e-5, hidden_layer_sizes=(layer_size, nb_layers, random_state=10, max_iter = max_iter)\n",
        "    MLP.fit(IN,OUT)\n",
        "    prediction = VF_predict(MLP.predict(IN_test),real_out)\n",
        "    print(\"optimized MLP returns (\", layer size, \",\", nb_layers, \") : \", prediction)\n",
        "    return(prediction)"
      ],
      "execution_count": null,
      "outputs": [
        {
          "output_type": "error",
          "ename": "SyntaxError",
          "evalue": "ignored",
          "traceback": [
            "\u001b[0;36m  File \u001b[0;32m\"<ipython-input-23-92b6590a8811>\"\u001b[0;36m, line \u001b[0;32m2\u001b[0m\n\u001b[0;31m    MLP = MLPClassifier(solver='adam', alpha=1e-5, hidden_layer_sizes=(layer_size, nb_layers, random_state=10, max_iter = max_iter)\u001b[0m\n\u001b[0m                                                                                                          ^\u001b[0m\n\u001b[0;31mSyntaxError\u001b[0m\u001b[0;31m:\u001b[0m invalid syntax\n"
          ]
        }
      ]
    },
    {
      "cell_type": "code",
      "metadata": {
        "id": "nq81gFtjz-ht",
        "colab_type": "code",
        "colab": {
          "base_uri": "https://localhost:8080/",
          "height": 181
        },
        "outputId": "85b2878c-3497-4a6d-88cf-4bed580a1143"
      },
      "source": [
        "Base_aleatoire = optimized_MLP(INPUT_alea, OUTPUT, INPUT_TEST, REAL_OUTPUT_TEST)\n",
        "#Base_best = optimized_MLP(INPUT_best, OUTPUT, INPUT_TEST, REAL_OUTPUT_TEST)"
      ],
      "execution_count": null,
      "outputs": [
        {
          "output_type": "error",
          "ename": "NameError",
          "evalue": "ignored",
          "traceback": [
            "\u001b[0;31m---------------------------------------------------------------------------\u001b[0m",
            "\u001b[0;31mNameError\u001b[0m                                 Traceback (most recent call last)",
            "\u001b[0;32m<ipython-input-22-d0daed32c2b5>\u001b[0m in \u001b[0;36m<module>\u001b[0;34m()\u001b[0m\n\u001b[0;32m----> 1\u001b[0;31m \u001b[0mBase_aleatoire\u001b[0m \u001b[0;34m=\u001b[0m \u001b[0moptimized_MLP\u001b[0m\u001b[0;34m(\u001b[0m\u001b[0mINPUT_alea\u001b[0m\u001b[0;34m,\u001b[0m \u001b[0mOUTPUT\u001b[0m\u001b[0;34m,\u001b[0m \u001b[0mINPUT_TEST\u001b[0m\u001b[0;34m,\u001b[0m \u001b[0mREAL_OUTPUT_TEST\u001b[0m\u001b[0;34m)\u001b[0m\u001b[0;34m\u001b[0m\u001b[0;34m\u001b[0m\u001b[0m\n\u001b[0m\u001b[1;32m      2\u001b[0m \u001b[0;31m#Base_best = optimized_MLP(INPUT_best, OUTPUT, INPUT_TEST, REAL_OUTPUT_TEST)\u001b[0m\u001b[0;34m\u001b[0m\u001b[0;34m\u001b[0m\u001b[0;34m\u001b[0m\u001b[0m\n",
            "\u001b[0;31mNameError\u001b[0m: name 'optimized_MLP' is not defined"
          ]
        }
      ]
    },
    {
      "cell_type": "code",
      "metadata": {
        "id": "UfTiehapiqTQ",
        "colab_type": "code",
        "colab": {
          "base_uri": "https://localhost:8080/",
          "height": 323
        },
        "outputId": "88def855-4ce2-4de1-9107-30cbf03d4da8"
      },
      "source": [
        "A = zeros((3,3))\n",
        "A[0] = ones(3)\n",
        "A[1] = 2*ones(3)\n",
        "\n",
        "A = array([k*ones(10) for k in range(10)])\n",
        "\n",
        "sample = array([0, 1, 8])\n",
        "\n",
        "A_bis = A\n",
        "for i in range(len(sample)):\n",
        "    A_bis = np.delete(A,sample[i]-i,0)\n",
        "\n",
        "print(A,A_bis)"
      ],
      "execution_count": null,
      "outputs": [
        {
          "output_type": "stream",
          "text": [
            "[[0. 0. 0. 0. 0. 0. 0. 0. 0. 0.]\n",
            " [1. 1. 1. 1. 1. 1. 1. 1. 1. 1.]\n",
            " [2. 2. 2. 2. 2. 2. 2. 2. 2. 2.]\n",
            " [3. 3. 3. 3. 3. 3. 3. 3. 3. 3.]\n",
            " [4. 4. 4. 4. 4. 4. 4. 4. 4. 4.]\n",
            " [5. 5. 5. 5. 5. 5. 5. 5. 5. 5.]\n",
            " [6. 6. 6. 6. 6. 6. 6. 6. 6. 6.]\n",
            " [7. 7. 7. 7. 7. 7. 7. 7. 7. 7.]\n",
            " [8. 8. 8. 8. 8. 8. 8. 8. 8. 8.]\n",
            " [9. 9. 9. 9. 9. 9. 9. 9. 9. 9.]] [[0. 0. 0. 0. 0. 0. 0. 0. 0. 0.]\n",
            " [1. 1. 1. 1. 1. 1. 1. 1. 1. 1.]\n",
            " [2. 2. 2. 2. 2. 2. 2. 2. 2. 2.]\n",
            " [3. 3. 3. 3. 3. 3. 3. 3. 3. 3.]\n",
            " [4. 4. 4. 4. 4. 4. 4. 4. 4. 4.]\n",
            " [5. 5. 5. 5. 5. 5. 5. 5. 5. 5.]\n",
            " [7. 7. 7. 7. 7. 7. 7. 7. 7. 7.]\n",
            " [8. 8. 8. 8. 8. 8. 8. 8. 8. 8.]\n",
            " [9. 9. 9. 9. 9. 9. 9. 9. 9. 9.]]\n"
          ],
          "name": "stdout"
        }
      ]
    },
    {
      "cell_type": "code",
      "metadata": {
        "id": "big8Axh4k29c",
        "colab_type": "code",
        "colab": {}
      },
      "source": [
        "for i in range(len(sample)):\n",
        "    COMMUNES_del = np.delete(COMMUNES,sample[i]-i,0)\n",
        "    COMMUNES = COMMUNES_del"
      ],
      "execution_count": null,
      "outputs": []
    },
    {
      "cell_type": "markdown",
      "metadata": {
        "id": "VbxNKbvf_YGu",
        "colab_type": "text"
      },
      "source": [
        "On va ici regarder si des reseaux de neurones non-supervisés peuvent s'avérer pertinents. Le seul réseau de neurones non-supervisé disponible avec la bibliothèque sickit-learn est une machine de Boltzman de type Bernouilli : elle ne prend en entrée que des valeures binaires, ou entre 0 et 1. Cela tombe bien, "
      ]
    }
  ]
}